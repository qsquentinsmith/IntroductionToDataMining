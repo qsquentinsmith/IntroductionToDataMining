{
 "cells": [
  {
   "cell_type": "markdown",
   "metadata": {},
   "source": [
    "# <center>Spam Classification with Naive Bayes\n",
    "\n",
    "\n",
    "***Context***\n",
    "The SMS Spam Collection is a set of SMS tagged messages that have been collected for SMS Spam research. It contains one set of SMS messages in English of 5,574 messages, tagged according being ham (legitimate) or spam. Your job is to build a classifier to identify message as ham or spam. \n",
    "\n",
    "***Content***\n",
    "The files contain one message per line. Each line is composed by two columns: first contains the label (ham or spam) and second coloumn contains the raw text.The dataset has been taken from [Kaggle](https://www.kaggle.com/uciml/sms-spam-collection-dataset)."
   ]
  },
  {
   "cell_type": "code",
   "execution_count": 7,
   "metadata": {
    "_cell_guid": "b1076dfc-b9ad-4769-8c92-a6c4dae69d19",
    "_uuid": "8f2839f25d086af736a60e9eeb907d3b93b6e0e5"
   },
   "outputs": [],
   "source": [
    "import numpy as np # linear algebra\n",
    "import pandas as pd # data processing, CSV file I/O (e.g. pd.read_csv)\n",
    "import nltk"
   ]
  },
  {
   "cell_type": "markdown",
   "metadata": {
    "_cell_guid": "79c7e3d0-c299-4dcb-8224-4455121ee9b0",
    "_uuid": "d629ff2d2480ee46fbb7e2d37f6b5fab8052498a"
   },
   "source": [
    "**Checking the Length of SMS**"
   ]
  },
  {
   "cell_type": "code",
   "execution_count": 8,
   "metadata": {
    "_uuid": "4bb2b45f846f75fae48ea7e06f9abe43e3518f6e"
   },
   "outputs": [
    {
     "data": {
      "text/html": [
       "<div>\n",
       "<style scoped>\n",
       "    .dataframe tbody tr th:only-of-type {\n",
       "        vertical-align: middle;\n",
       "    }\n",
       "\n",
       "    .dataframe tbody tr th {\n",
       "        vertical-align: top;\n",
       "    }\n",
       "\n",
       "    .dataframe thead th {\n",
       "        text-align: right;\n",
       "    }\n",
       "</style>\n",
       "<table border=\"1\" class=\"dataframe\">\n",
       "  <thead>\n",
       "    <tr style=\"text-align: right;\">\n",
       "      <th></th>\n",
       "      <th>label</th>\n",
       "      <th>sms</th>\n",
       "    </tr>\n",
       "  </thead>\n",
       "  <tbody>\n",
       "    <tr>\n",
       "      <td>0</td>\n",
       "      <td>ham</td>\n",
       "      <td>Go until jurong point, crazy.. Available only ...</td>\n",
       "    </tr>\n",
       "    <tr>\n",
       "      <td>1</td>\n",
       "      <td>ham</td>\n",
       "      <td>Ok lar... Joking wif u oni...</td>\n",
       "    </tr>\n",
       "    <tr>\n",
       "      <td>2</td>\n",
       "      <td>spam</td>\n",
       "      <td>Free entry in 2 a wkly comp to win FA Cup fina...</td>\n",
       "    </tr>\n",
       "    <tr>\n",
       "      <td>3</td>\n",
       "      <td>ham</td>\n",
       "      <td>U dun say so early hor... U c already then say...</td>\n",
       "    </tr>\n",
       "    <tr>\n",
       "      <td>4</td>\n",
       "      <td>ham</td>\n",
       "      <td>Nah I don't think he goes to usf, he lives aro...</td>\n",
       "    </tr>\n",
       "  </tbody>\n",
       "</table>\n",
       "</div>"
      ],
      "text/plain": [
       "  label                                                sms\n",
       "0   ham  Go until jurong point, crazy.. Available only ...\n",
       "1   ham                      Ok lar... Joking wif u oni...\n",
       "2  spam  Free entry in 2 a wkly comp to win FA Cup fina...\n",
       "3   ham  U dun say so early hor... U c already then say...\n",
       "4   ham  Nah I don't think he goes to usf, he lives aro..."
      ]
     },
     "execution_count": 8,
     "metadata": {},
     "output_type": "execute_result"
    }
   ],
   "source": [
    "import pandas\n",
    "df_sms = pd.read_csv('spam.csv',encoding='latin-1')\n",
    "df_sms.head()"
   ]
  },
  {
   "cell_type": "code",
   "execution_count": 33,
   "metadata": {},
   "outputs": [
    {
     "data": {
      "text/plain": [
       "label     5572\n",
       "sms       5572\n",
       "length    5572\n",
       "dtype: int64"
      ]
     },
     "execution_count": 33,
     "metadata": {},
     "output_type": "execute_result"
    }
   ],
   "source": [
    "df_sms.count()"
   ]
  },
  {
   "cell_type": "code",
   "execution_count": 9,
   "metadata": {
    "_uuid": "107c0fe13d78fab5a4f9602e3f430f24c74ad158"
   },
   "outputs": [
    {
     "data": {
      "text/html": [
       "<div>\n",
       "<style scoped>\n",
       "    .dataframe tbody tr th:only-of-type {\n",
       "        vertical-align: middle;\n",
       "    }\n",
       "\n",
       "    .dataframe tbody tr th {\n",
       "        vertical-align: top;\n",
       "    }\n",
       "\n",
       "    .dataframe thead th {\n",
       "        text-align: right;\n",
       "    }\n",
       "</style>\n",
       "<table border=\"1\" class=\"dataframe\">\n",
       "  <thead>\n",
       "    <tr style=\"text-align: right;\">\n",
       "      <th></th>\n",
       "      <th>label</th>\n",
       "      <th>sms</th>\n",
       "    </tr>\n",
       "  </thead>\n",
       "  <tbody>\n",
       "    <tr>\n",
       "      <td>5567</td>\n",
       "      <td>spam</td>\n",
       "      <td>This is the 2nd time we have tried 2 contact u...</td>\n",
       "    </tr>\n",
       "    <tr>\n",
       "      <td>5568</td>\n",
       "      <td>ham</td>\n",
       "      <td>Will Ã_ b going to esplanade fr home?</td>\n",
       "    </tr>\n",
       "    <tr>\n",
       "      <td>5569</td>\n",
       "      <td>ham</td>\n",
       "      <td>Pity, * was in mood for that. So...any other s...</td>\n",
       "    </tr>\n",
       "    <tr>\n",
       "      <td>5570</td>\n",
       "      <td>ham</td>\n",
       "      <td>The guy did some bitching but I acted like i'd...</td>\n",
       "    </tr>\n",
       "    <tr>\n",
       "      <td>5571</td>\n",
       "      <td>ham</td>\n",
       "      <td>Rofl. Its true to its name</td>\n",
       "    </tr>\n",
       "  </tbody>\n",
       "</table>\n",
       "</div>"
      ],
      "text/plain": [
       "     label                                                sms\n",
       "5567  spam  This is the 2nd time we have tried 2 contact u...\n",
       "5568   ham             Will Ã_ b going to esplanade fr home?\n",
       "5569   ham  Pity, * was in mood for that. So...any other s...\n",
       "5570   ham  The guy did some bitching but I acted like i'd...\n",
       "5571   ham                         Rofl. Its true to its name"
      ]
     },
     "execution_count": 9,
     "metadata": {},
     "output_type": "execute_result"
    }
   ],
   "source": [
    "df_sms.tail()"
   ]
  },
  {
   "cell_type": "code",
   "execution_count": 10,
   "metadata": {
    "_uuid": "9ce3b9b6d760ac0c081cd1673c38f55c09827adb"
   },
   "outputs": [
    {
     "data": {
      "text/plain": [
       "ham     4825\n",
       "spam     747\n",
       "Name: label, dtype: int64"
      ]
     },
     "execution_count": 10,
     "metadata": {},
     "output_type": "execute_result"
    }
   ],
   "source": [
    "#Number of observations in each label spam and ham\n",
    "df_sms.label.value_counts()"
   ]
  },
  {
   "cell_type": "code",
   "execution_count": 11,
   "metadata": {
    "_uuid": "2f020baef301472ba7280ff152916cf36360a38d"
   },
   "outputs": [
    {
     "data": {
      "text/html": [
       "<div>\n",
       "<style scoped>\n",
       "    .dataframe tbody tr th:only-of-type {\n",
       "        vertical-align: middle;\n",
       "    }\n",
       "\n",
       "    .dataframe tbody tr th {\n",
       "        vertical-align: top;\n",
       "    }\n",
       "\n",
       "    .dataframe thead th {\n",
       "        text-align: right;\n",
       "    }\n",
       "</style>\n",
       "<table border=\"1\" class=\"dataframe\">\n",
       "  <thead>\n",
       "    <tr style=\"text-align: right;\">\n",
       "      <th></th>\n",
       "      <th>label</th>\n",
       "      <th>sms</th>\n",
       "    </tr>\n",
       "  </thead>\n",
       "  <tbody>\n",
       "    <tr>\n",
       "      <td>count</td>\n",
       "      <td>5572</td>\n",
       "      <td>5572</td>\n",
       "    </tr>\n",
       "    <tr>\n",
       "      <td>unique</td>\n",
       "      <td>2</td>\n",
       "      <td>5169</td>\n",
       "    </tr>\n",
       "    <tr>\n",
       "      <td>top</td>\n",
       "      <td>ham</td>\n",
       "      <td>Sorry, I'll call later</td>\n",
       "    </tr>\n",
       "    <tr>\n",
       "      <td>freq</td>\n",
       "      <td>4825</td>\n",
       "      <td>30</td>\n",
       "    </tr>\n",
       "  </tbody>\n",
       "</table>\n",
       "</div>"
      ],
      "text/plain": [
       "       label                     sms\n",
       "count   5572                    5572\n",
       "unique     2                    5169\n",
       "top      ham  Sorry, I'll call later\n",
       "freq    4825                      30"
      ]
     },
     "execution_count": 11,
     "metadata": {},
     "output_type": "execute_result"
    }
   ],
   "source": [
    "df_sms.describe()"
   ]
  },
  {
   "cell_type": "code",
   "execution_count": 47,
   "metadata": {
    "_uuid": "0e64fe53089b02124da0f41296a7059ad499ce16"
   },
   "outputs": [
    {
     "name": "stdout",
     "output_type": "stream",
     "text": [
      "      label                                                sms  length\n",
      "1084      0  For me the love should start with attraction.i...     910\n",
      "1862      0  The last thing i ever wanted to do was hurt yo...     790\n",
      "2433      0  Indians r poor but India is not a poor country...     632\n",
      "1578      0  How to Make a girl Happy? It's not at all diff...     611\n",
      "2157      0  Sad story of a Man - Last week was my b'day. M...     588\n",
      "2847      0  Sad story of a Man - Last week was my b'day. M...     588\n",
      "2379      0  Good evening Sir, hope you are having a nice d...     482\n",
      "3015      0  &lt;#&gt;  is fast approaching. So, Wish u a v...     461\n",
      "1512      0  Hey sweet, I was wondering when you had a mome...     458\n",
      "2369      0  A Boy loved a gal. He propsd bt she didnt mind...     450\n",
      "      label  sms  length\n",
      "1924      0   Ok       2\n",
      "3049      0   Ok       2\n",
      "4496      0   Ok       2\n",
      "5357      0   Ok       2\n",
      "260       0  Yup       3\n",
      "1611      0  645       3\n",
      "2181      0  Ok.       3\n",
      "3374      0  :)        3\n",
      "3490      0  Ok.       3\n",
      "3831      0  Ok.       3\n"
     ]
    }
   ],
   "source": [
    "df_sms['length'] = df_sms['sms'].apply(len)\n",
    "\n",
    "print(df_sms.nlargest(10,'length'))\n",
    "print(df_sms.nsmallest(10,'length'))"
   ]
  },
  {
   "cell_type": "code",
   "execution_count": 13,
   "metadata": {},
   "outputs": [
    {
     "name": "stdout",
     "output_type": "stream",
     "text": [
      "Maximum length of SMS is 910\n"
     ]
    }
   ],
   "source": [
    "print (f\"Maximum length of SMS is {max(df_sms['length'])}\")"
   ]
  },
  {
   "cell_type": "code",
   "execution_count": 14,
   "metadata": {},
   "outputs": [
    {
     "name": "stdout",
     "output_type": "stream",
     "text": [
      "Minimim length of SMS is 2\n"
     ]
    }
   ],
   "source": [
    "print (f\"Minimim length of SMS is {min(df_sms['length'])}\")"
   ]
  },
  {
   "cell_type": "code",
   "execution_count": 15,
   "metadata": {},
   "outputs": [
    {
     "data": {
      "text/plain": [
       "Text(0, 0.5, 'Frequency')"
      ]
     },
     "execution_count": 15,
     "metadata": {},
     "output_type": "execute_result"
    }
   ],
   "source": [
    "import matplotlib.pyplot as plt\n",
    "\n",
    "data = list(df_sms['length'])\n",
    "binsize = 30\n",
    "plt.hist(data, bins=range(min(data), max(data) + binsize, binsize))\n",
    "\n",
    "plt.title('Histogram of SMS length')\n",
    "plt.xlabel(\"Bins\")\n",
    "plt.ylabel(\"Frequency\")"
   ]
  },
  {
   "cell_type": "code",
   "execution_count": 53,
   "metadata": {
    "_uuid": "1c2a9fc260cef3996ca2515e1946e7413c685bd3",
    "scrolled": false
   },
   "outputs": [
    {
     "data": {
      "text/plain": [
       "array([<matplotlib.axes._subplots.AxesSubplot object at 0x000001E358BA6EC8>,\n",
       "       <matplotlib.axes._subplots.AxesSubplot object at 0x000001E358CC9BC8>],\n",
       "      dtype=object)"
      ]
     },
     "execution_count": 53,
     "metadata": {},
     "output_type": "execute_result"
    },
    {
     "data": {
      "image/png": "[encoded data removed]",
      "text/plain": [
       "<Figure size 1008x288 with 2 Axes>"
      ]
     },
     "metadata": {
      "needs_background": "light"
     },
     "output_type": "display_data"
    }
   ],
   "source": [
    "df_sms.hist(column='length', by='label', bins=50,figsize=(14,4))"
   ]
  },
  {
   "cell_type": "code",
   "execution_count": 17,
   "metadata": {
    "_uuid": "b187b7705bd949f2ae80f825657adb43b3bb57da"
   },
   "outputs": [
    {
     "name": "stdout",
     "output_type": "stream",
     "text": [
      "(5572, 3)\n"
     ]
    },
    {
     "data": {
      "text/html": [
       "<div>\n",
       "<style scoped>\n",
       "    .dataframe tbody tr th:only-of-type {\n",
       "        vertical-align: middle;\n",
       "    }\n",
       "\n",
       "    .dataframe tbody tr th {\n",
       "        vertical-align: top;\n",
       "    }\n",
       "\n",
       "    .dataframe thead th {\n",
       "        text-align: right;\n",
       "    }\n",
       "</style>\n",
       "<table border=\"1\" class=\"dataframe\">\n",
       "  <thead>\n",
       "    <tr style=\"text-align: right;\">\n",
       "      <th></th>\n",
       "      <th>label</th>\n",
       "      <th>sms</th>\n",
       "      <th>length</th>\n",
       "    </tr>\n",
       "  </thead>\n",
       "  <tbody>\n",
       "    <tr>\n",
       "      <td>0</td>\n",
       "      <td>0</td>\n",
       "      <td>Go until jurong point, crazy.. Available only ...</td>\n",
       "      <td>111</td>\n",
       "    </tr>\n",
       "    <tr>\n",
       "      <td>1</td>\n",
       "      <td>0</td>\n",
       "      <td>Ok lar... Joking wif u oni...</td>\n",
       "      <td>29</td>\n",
       "    </tr>\n",
       "    <tr>\n",
       "      <td>2</td>\n",
       "      <td>1</td>\n",
       "      <td>Free entry in 2 a wkly comp to win FA Cup fina...</td>\n",
       "      <td>155</td>\n",
       "    </tr>\n",
       "    <tr>\n",
       "      <td>3</td>\n",
       "      <td>0</td>\n",
       "      <td>U dun say so early hor... U c already then say...</td>\n",
       "      <td>49</td>\n",
       "    </tr>\n",
       "    <tr>\n",
       "      <td>4</td>\n",
       "      <td>0</td>\n",
       "      <td>Nah I don't think he goes to usf, he lives aro...</td>\n",
       "      <td>61</td>\n",
       "    </tr>\n",
       "  </tbody>\n",
       "</table>\n",
       "</div>"
      ],
      "text/plain": [
       "   label                                                sms  length\n",
       "0      0  Go until jurong point, crazy.. Available only ...     111\n",
       "1      0                      Ok lar... Joking wif u oni...      29\n",
       "2      1  Free entry in 2 a wkly comp to win FA Cup fina...     155\n",
       "3      0  U dun say so early hor... U c already then say...      49\n",
       "4      0  Nah I don't think he goes to usf, he lives aro...      61"
      ]
     },
     "execution_count": 17,
     "metadata": {},
     "output_type": "execute_result"
    }
   ],
   "source": [
    "#replace ham with 0 and spam with 1\n",
    "df_sms.loc[:,'label'] = df_sms.label.map({'ham':0, 'spam':1})\n",
    "print(df_sms.shape)\n",
    "df_sms.head()"
   ]
  },
  {
   "cell_type": "markdown",
   "metadata": {
    "_uuid": "233831c7ecdeb8311cc2c5eaf1fb92098a8b4081"
   },
   "source": [
    "## Bag of Words Approach"
   ]
  },
  {
   "cell_type": "markdown",
   "metadata": {
    "_uuid": "38f6a4ac426e4aae919a88080b3e06c691f95b2b"
   },
   "source": [
    "\n",
    "What we have here in our data set is a collection of text data (5,572 rows of data). Most ML algorithms rely on numerical data to be fed into them as input, and email/sms messages are usually text heavy.\n",
    "We need a way to represent text data for machine learning algorithm and the bag-of-words model helps us to achieve that task.\n",
    "It is a way of extracting features from the text for use in machine learning algorithms.\n",
    "In this approach, we use the tokenized words for each observation and find the frequency of each token.\n",
    "Using a process which we will go through now, we can convert a collection of documents to a matrix, with each document being a row and each word(token) being the column, and the corresponding (row,column) values being the frequency of occurrence of each word or token in that document.\n",
    "\n",
    "For example:\n",
    "\n",
    "Let's say we have 4 documents as follows:\n",
    "\n",
    "**['Hello, how are you!',\n",
    "'Win money, win from home.',\n",
    "'Call me now',\n",
    "'Hello, Call you tomorrow?']**\n",
    "\n",
    "Our objective here is to convert this set of text to a frequency distribution matrix, as follows:\n",
    "<img src=\"https://image.ibb.co/casG7U/countvectorizer.png\" alt=\"table\">"
   ]
  },
  {
   "cell_type": "markdown",
   "metadata": {
    "_uuid": "e7d98fe16bb796f82419fa591605f457b0d52836"
   },
   "source": [
    "Here as we can see, the documents are numbered in the rows, and each word is a column name, with the corresponding value being the frequency of that word in the document.\n",
    "\n",
    "Lets break this down and see how we can do this conversion using a small set of documents.\n",
    "\n",
    "To handle this, we will be using sklearns count vectorizer method which does the following:\n",
    "\n",
    "1.  It tokenizes the string(separates the string into individual words) and gives an integer ID to each token.\n",
    "2. It counts the occurrence of each of those tokens."
   ]
  },
  {
   "cell_type": "markdown",
   "metadata": {
    "_uuid": "1b1160ede91a8705d6f2aa30db6a198493f29661"
   },
   "source": [
    "**Implementation of Bag of Words Approach in Python**"
   ]
  },
  {
   "cell_type": "markdown",
   "metadata": {
    "_uuid": "c801dcc3d64d88c1336de3b9aad1a3a802f711f1"
   },
   "source": [
    "Step 1: Convert all strings to their lower case form."
   ]
  },
  {
   "cell_type": "code",
   "execution_count": 18,
   "metadata": {
    "_uuid": "74535171bb8c56beef46d910fc322c8c6f8879ef"
   },
   "outputs": [
    {
     "name": "stdout",
     "output_type": "stream",
     "text": [
      "['hi, how are you?', 'win money, win from home. call now.', 'hi. call you now or tomorrow?']\n"
     ]
    }
   ],
   "source": [
    "\n",
    "\n",
    "documents = ['Hi, how are you?', \n",
    "             'Win money, win from home. Call now.', \n",
    "             'Hi. Call you now or tomorrow?']\n",
    "\n",
    "lower_case_documents = []\n",
    "lower_case_documents = [d.lower() for d in documents]\n",
    "print(lower_case_documents)\n"
   ]
  },
  {
   "cell_type": "markdown",
   "metadata": {
    "_uuid": "0c7114eeac1932122a01943d9fcdd52f13e86e80"
   },
   "source": [
    "Step 2: Removing all punctuations"
   ]
  },
  {
   "cell_type": "code",
   "execution_count": 19,
   "metadata": {
    "_uuid": "0385f268056be9d84613fbc3a492d8b4695480bf"
   },
   "outputs": [
    {
     "data": {
      "text/plain": [
       "['hi how are you',\n",
       " 'win money win from home call now',\n",
       " 'hi call you now or tomorrow']"
      ]
     },
     "execution_count": 19,
     "metadata": {},
     "output_type": "execute_result"
    }
   ],
   "source": [
    "sans_punctuation_documents = []\n",
    "import string\n",
    "\n",
    "for i in lower_case_documents:\n",
    "    sans_punctuation_documents.append(i.translate(str.maketrans(\"\",\"\", string.punctuation)))\n",
    "    \n",
    "sans_punctuation_documents"
   ]
  },
  {
   "cell_type": "markdown",
   "metadata": {
    "_uuid": "a1a709cf9e09aa2ea1e67009ad19aaba8475fa6f"
   },
   "source": [
    "Step 3: Tokenization"
   ]
  },
  {
   "cell_type": "code",
   "execution_count": 20,
   "metadata": {
    "_uuid": "ef412ffa525e15273eaace2aae4e374a8933091c"
   },
   "outputs": [
    {
     "data": {
      "text/plain": [
       "[['hi', 'how', 'are', 'you'],\n",
       " ['win', 'money', 'win', 'from', 'home', 'call', 'now'],\n",
       " ['hi', 'call', 'you', 'now', 'or', 'tomorrow']]"
      ]
     },
     "execution_count": 20,
     "metadata": {},
     "output_type": "execute_result"
    }
   ],
   "source": [
    "preprocessed_documents = [[w for w in d.split()] for d in sans_punctuation_documents]\n",
    "preprocessed_documents"
   ]
  },
  {
   "cell_type": "markdown",
   "metadata": {
    "_uuid": "95630beff35cb61b5fd1744b91ca37e7f6dd1d00"
   },
   "source": [
    "Step 4: Count frequencies"
   ]
  },
  {
   "cell_type": "code",
   "execution_count": 21,
   "metadata": {
    "_uuid": "bdcd4677b6634fbe7f75c47262903efdb38100d1"
   },
   "outputs": [
    {
     "name": "stdout",
     "output_type": "stream",
     "text": [
      "[Counter({'hi': 1, 'how': 1, 'are': 1, 'you': 1}),\n",
      " Counter({'win': 2, 'money': 1, 'from': 1, 'home': 1, 'call': 1, 'now': 1}),\n",
      " Counter({'hi': 1, 'call': 1, 'you': 1, 'now': 1, 'or': 1, 'tomorrow': 1})]\n"
     ]
    }
   ],
   "source": [
    "frequency_list = []\n",
    "import pprint\n",
    "from collections import Counter\n",
    "\n",
    "frequency_list = [Counter(d) for d in preprocessed_documents]\n",
    "pprint.pprint(frequency_list)"
   ]
  },
  {
   "cell_type": "markdown",
   "metadata": {},
   "source": [
    " #### English Stop words in countvectorizer"
   ]
  },
  {
   "cell_type": "code",
   "execution_count": 59,
   "metadata": {},
   "outputs": [
    {
     "data": {
      "text/plain": [
       "frozenset({'a',\n",
       "           'about',\n",
       "           'above',\n",
       "           'across',\n",
       "           'after',\n",
       "           'afterwards',\n",
       "           'again',\n",
       "           'against',\n",
       "           'all',\n",
       "           'almost',\n",
       "           'alone',\n",
       "           'along',\n",
       "           'already',\n",
       "           'also',\n",
       "           'although',\n",
       "           'always',\n",
       "           'am',\n",
       "           'among',\n",
       "           'amongst',\n",
       "           'amoungst',\n",
       "           'amount',\n",
       "           'an',\n",
       "           'and',\n",
       "           'another',\n",
       "           'any',\n",
       "           'anyhow',\n",
       "           'anyone',\n",
       "           'anything',\n",
       "           'anyway',\n",
       "           'anywhere',\n",
       "           'are',\n",
       "           'around',\n",
       "           'as',\n",
       "           'at',\n",
       "           'back',\n",
       "           'be',\n",
       "           'became',\n",
       "           'because',\n",
       "           'become',\n",
       "           'becomes',\n",
       "           'becoming',\n",
       "           'been',\n",
       "           'before',\n",
       "           'beforehand',\n",
       "           'behind',\n",
       "           'being',\n",
       "           'below',\n",
       "           'beside',\n",
       "           'besides',\n",
       "           'between',\n",
       "           'beyond',\n",
       "           'bill',\n",
       "           'both',\n",
       "           'bottom',\n",
       "           'but',\n",
       "           'by',\n",
       "           'call',\n",
       "           'can',\n",
       "           'cannot',\n",
       "           'cant',\n",
       "           'co',\n",
       "           'con',\n",
       "           'could',\n",
       "           'couldnt',\n",
       "           'cry',\n",
       "           'de',\n",
       "           'describe',\n",
       "           'detail',\n",
       "           'do',\n",
       "           'done',\n",
       "           'down',\n",
       "           'due',\n",
       "           'during',\n",
       "           'each',\n",
       "           'eg',\n",
       "           'eight',\n",
       "           'either',\n",
       "           'eleven',\n",
       "           'else',\n",
       "           'elsewhere',\n",
       "           'empty',\n",
       "           'enough',\n",
       "           'etc',\n",
       "           'even',\n",
       "           'ever',\n",
       "           'every',\n",
       "           'everyone',\n",
       "           'everything',\n",
       "           'everywhere',\n",
       "           'except',\n",
       "           'few',\n",
       "           'fifteen',\n",
       "           'fifty',\n",
       "           'fill',\n",
       "           'find',\n",
       "           'fire',\n",
       "           'first',\n",
       "           'five',\n",
       "           'for',\n",
       "           'former',\n",
       "           'formerly',\n",
       "           'forty',\n",
       "           'found',\n",
       "           'four',\n",
       "           'from',\n",
       "           'front',\n",
       "           'full',\n",
       "           'further',\n",
       "           'get',\n",
       "           'give',\n",
       "           'go',\n",
       "           'had',\n",
       "           'has',\n",
       "           'hasnt',\n",
       "           'have',\n",
       "           'he',\n",
       "           'hence',\n",
       "           'her',\n",
       "           'here',\n",
       "           'hereafter',\n",
       "           'hereby',\n",
       "           'herein',\n",
       "           'hereupon',\n",
       "           'hers',\n",
       "           'herself',\n",
       "           'him',\n",
       "           'himself',\n",
       "           'his',\n",
       "           'how',\n",
       "           'however',\n",
       "           'hundred',\n",
       "           'i',\n",
       "           'ie',\n",
       "           'if',\n",
       "           'in',\n",
       "           'inc',\n",
       "           'indeed',\n",
       "           'interest',\n",
       "           'into',\n",
       "           'is',\n",
       "           'it',\n",
       "           'its',\n",
       "           'itself',\n",
       "           'keep',\n",
       "           'last',\n",
       "           'latter',\n",
       "           'latterly',\n",
       "           'least',\n",
       "           'less',\n",
       "           'ltd',\n",
       "           'made',\n",
       "           'many',\n",
       "           'may',\n",
       "           'me',\n",
       "           'meanwhile',\n",
       "           'might',\n",
       "           'mill',\n",
       "           'mine',\n",
       "           'more',\n",
       "           'moreover',\n",
       "           'most',\n",
       "           'mostly',\n",
       "           'move',\n",
       "           'much',\n",
       "           'must',\n",
       "           'my',\n",
       "           'myself',\n",
       "           'name',\n",
       "           'namely',\n",
       "           'neither',\n",
       "           'never',\n",
       "           'nevertheless',\n",
       "           'next',\n",
       "           'nine',\n",
       "           'no',\n",
       "           'nobody',\n",
       "           'none',\n",
       "           'noone',\n",
       "           'nor',\n",
       "           'not',\n",
       "           'nothing',\n",
       "           'now',\n",
       "           'nowhere',\n",
       "           'of',\n",
       "           'off',\n",
       "           'often',\n",
       "           'on',\n",
       "           'once',\n",
       "           'one',\n",
       "           'only',\n",
       "           'onto',\n",
       "           'or',\n",
       "           'other',\n",
       "           'others',\n",
       "           'otherwise',\n",
       "           'our',\n",
       "           'ours',\n",
       "           'ourselves',\n",
       "           'out',\n",
       "           'over',\n",
       "           'own',\n",
       "           'part',\n",
       "           'per',\n",
       "           'perhaps',\n",
       "           'please',\n",
       "           'put',\n",
       "           'rather',\n",
       "           're',\n",
       "           'same',\n",
       "           'see',\n",
       "           'seem',\n",
       "           'seemed',\n",
       "           'seeming',\n",
       "           'seems',\n",
       "           'serious',\n",
       "           'several',\n",
       "           'she',\n",
       "           'should',\n",
       "           'show',\n",
       "           'side',\n",
       "           'since',\n",
       "           'sincere',\n",
       "           'six',\n",
       "           'sixty',\n",
       "           'so',\n",
       "           'some',\n",
       "           'somehow',\n",
       "           'someone',\n",
       "           'something',\n",
       "           'sometime',\n",
       "           'sometimes',\n",
       "           'somewhere',\n",
       "           'still',\n",
       "           'such',\n",
       "           'system',\n",
       "           'take',\n",
       "           'ten',\n",
       "           'than',\n",
       "           'that',\n",
       "           'the',\n",
       "           'their',\n",
       "           'them',\n",
       "           'themselves',\n",
       "           'then',\n",
       "           'thence',\n",
       "           'there',\n",
       "           'thereafter',\n",
       "           'thereby',\n",
       "           'therefore',\n",
       "           'therein',\n",
       "           'thereupon',\n",
       "           'these',\n",
       "           'they',\n",
       "           'thick',\n",
       "           'thin',\n",
       "           'third',\n",
       "           'this',\n",
       "           'those',\n",
       "           'though',\n",
       "           'three',\n",
       "           'through',\n",
       "           'throughout',\n",
       "           'thru',\n",
       "           'thus',\n",
       "           'to',\n",
       "           'together',\n",
       "           'too',\n",
       "           'top',\n",
       "           'toward',\n",
       "           'towards',\n",
       "           'twelve',\n",
       "           'twenty',\n",
       "           'two',\n",
       "           'un',\n",
       "           'under',\n",
       "           'until',\n",
       "           'up',\n",
       "           'upon',\n",
       "           'us',\n",
       "           'very',\n",
       "           'via',\n",
       "           'was',\n",
       "           'we',\n",
       "           'well',\n",
       "           'were',\n",
       "           'what',\n",
       "           'whatever',\n",
       "           'when',\n",
       "           'whence',\n",
       "           'whenever',\n",
       "           'where',\n",
       "           'whereafter',\n",
       "           'whereas',\n",
       "           'whereby',\n",
       "           'wherein',\n",
       "           'whereupon',\n",
       "           'wherever',\n",
       "           'whether',\n",
       "           'which',\n",
       "           'while',\n",
       "           'whither',\n",
       "           'who',\n",
       "           'whoever',\n",
       "           'whole',\n",
       "           'whom',\n",
       "           'whose',\n",
       "           'why',\n",
       "           'will',\n",
       "           'with',\n",
       "           'within',\n",
       "           'without',\n",
       "           'would',\n",
       "           'yet',\n",
       "           'you',\n",
       "           'your',\n",
       "           'yours',\n",
       "           'yourself',\n",
       "           'yourselves'})"
      ]
     },
     "execution_count": 59,
     "metadata": {},
     "output_type": "execute_result"
    }
   ],
   "source": [
    "from sklearn.feature_extraction import text \n",
    "text.ENGLISH_STOP_WORDS"
   ]
  },
  {
   "cell_type": "markdown",
   "metadata": {
    "_uuid": "cc97056c261ef100eb715301ae09a068530791d9"
   },
   "source": [
    "**Implementing Bag of Words in scikit-learn**"
   ]
  },
  {
   "cell_type": "markdown",
   "metadata": {
    "_uuid": "502cd98468dac23ba325d4e75fd997f730ce22a0"
   },
   "source": [
    "'''\n",
    "Here we will look to create a frequency matrix on a smaller document set to make sure we understand how the \n",
    "document-term matrix generation happens. We have created a sample document set 'documents'.\n",
    "'''\n",
    "documents = ['Hello, how are you!',\n",
    "                'Win money, win from home.',\n",
    "                'Call me now.',\n",
    "                'Hello, Call hello you tomorrow?']"
   ]
  },
  {
   "cell_type": "code",
   "execution_count": 58,
   "metadata": {
    "_uuid": "7ca6a8661c2d14ce311a263c8f5b599f099bcd92"
   },
   "outputs": [],
   "source": [
    "from sklearn.feature_extraction.text import CountVectorizer\n",
    "count_vector = CountVectorizer()"
   ]
  },
  {
   "cell_type": "markdown",
   "metadata": {
    "_uuid": "ea63b5f315ff995b52de58a8805bbe10af9c17d6"
   },
   "source": [
    "**Data preprocessing with  ()**\n",
    "\n",
    "In above step, we implemented a version of the CountVectorizer() method from scratch that entailed cleaning our data first. This cleaning involved converting all of our data to lower case and removing all punctuation marks. CountVectorizer() has certain parameters which take care of these steps for us. They are:\n",
    "\n",
    "lowercase = True\n",
    "\n",
    "The lowercase parameter has a default value of True which converts all of our text to its lower case form.\n",
    "\n",
    "token_pattern = (?u)\\\\b\\\\w\\\\w+\\\\b\n",
    "\n",
    "The token_pattern parameter has a default regular expression value of (?u)\\\\b\\\\w\\\\w+\\\\b which ignores all punctuation marks and treats them as delimiters, while accepting alphanumeric strings of length greater than or equal to 2, as individual tokens or words.\n",
    "\n",
    "stop_words\n",
    "\n",
    "The stop_words parameter, if set to english will remove all words from our document set that match a list of English stop words which is defined in scikit-learn. Considering the size of our dataset and the fact that we are dealing with SMS messages and not larger text sources like e-mail, we will not be setting this parameter value."
   ]
  },
  {
   "cell_type": "code",
   "execution_count": 23,
   "metadata": {
    "_uuid": "89698bc13286e251f007438e5143a185874dec8a"
   },
   "outputs": [
    {
     "data": {
      "text/plain": [
       "['are',\n",
       " 'call',\n",
       " 'from',\n",
       " 'hi',\n",
       " 'home',\n",
       " 'how',\n",
       " 'money',\n",
       " 'now',\n",
       " 'or',\n",
       " 'tomorrow',\n",
       " 'win',\n",
       " 'you']"
      ]
     },
     "execution_count": 23,
     "metadata": {},
     "output_type": "execute_result"
    }
   ],
   "source": [
    "count_vector.fit(documents)\n",
    "count_vector.get_feature_names()"
   ]
  },
  {
   "cell_type": "code",
   "execution_count": 24,
   "metadata": {
    "_uuid": "7bdd5c5b641355b80c84ae24142f5ded3e4054ba"
   },
   "outputs": [
    {
     "data": {
      "text/plain": [
       "array([[1, 0, 0, 1, 0, 1, 0, 0, 0, 0, 0, 1],\n",
       "       [0, 1, 1, 0, 1, 0, 1, 1, 0, 0, 2, 0],\n",
       "       [0, 1, 0, 1, 0, 0, 0, 1, 1, 1, 0, 1]], dtype=int64)"
      ]
     },
     "execution_count": 24,
     "metadata": {},
     "output_type": "execute_result"
    }
   ],
   "source": [
    "doc_array = count_vector.transform(documents).toarray()\n",
    "doc_array"
   ]
  },
  {
   "cell_type": "code",
   "execution_count": 25,
   "metadata": {
    "_uuid": "770d9a3f5b134e81664eea69eae48a38bb5a03aa"
   },
   "outputs": [
    {
     "data": {
      "text/html": [
       "<div>\n",
       "<style scoped>\n",
       "    .dataframe tbody tr th:only-of-type {\n",
       "        vertical-align: middle;\n",
       "    }\n",
       "\n",
       "    .dataframe tbody tr th {\n",
       "        vertical-align: top;\n",
       "    }\n",
       "\n",
       "    .dataframe thead th {\n",
       "        text-align: right;\n",
       "    }\n",
       "</style>\n",
       "<table border=\"1\" class=\"dataframe\">\n",
       "  <thead>\n",
       "    <tr style=\"text-align: right;\">\n",
       "      <th></th>\n",
       "      <th>are</th>\n",
       "      <th>call</th>\n",
       "      <th>from</th>\n",
       "      <th>hi</th>\n",
       "      <th>home</th>\n",
       "      <th>how</th>\n",
       "      <th>money</th>\n",
       "      <th>now</th>\n",
       "      <th>or</th>\n",
       "      <th>tomorrow</th>\n",
       "      <th>win</th>\n",
       "      <th>you</th>\n",
       "    </tr>\n",
       "  </thead>\n",
       "  <tbody>\n",
       "    <tr>\n",
       "      <td>0</td>\n",
       "      <td>1</td>\n",
       "      <td>0</td>\n",
       "      <td>0</td>\n",
       "      <td>1</td>\n",
       "      <td>0</td>\n",
       "      <td>1</td>\n",
       "      <td>0</td>\n",
       "      <td>0</td>\n",
       "      <td>0</td>\n",
       "      <td>0</td>\n",
       "      <td>0</td>\n",
       "      <td>1</td>\n",
       "    </tr>\n",
       "    <tr>\n",
       "      <td>1</td>\n",
       "      <td>0</td>\n",
       "      <td>1</td>\n",
       "      <td>1</td>\n",
       "      <td>0</td>\n",
       "      <td>1</td>\n",
       "      <td>0</td>\n",
       "      <td>1</td>\n",
       "      <td>1</td>\n",
       "      <td>0</td>\n",
       "      <td>0</td>\n",
       "      <td>2</td>\n",
       "      <td>0</td>\n",
       "    </tr>\n",
       "    <tr>\n",
       "      <td>2</td>\n",
       "      <td>0</td>\n",
       "      <td>1</td>\n",
       "      <td>0</td>\n",
       "      <td>1</td>\n",
       "      <td>0</td>\n",
       "      <td>0</td>\n",
       "      <td>0</td>\n",
       "      <td>1</td>\n",
       "      <td>1</td>\n",
       "      <td>1</td>\n",
       "      <td>0</td>\n",
       "      <td>1</td>\n",
       "    </tr>\n",
       "  </tbody>\n",
       "</table>\n",
       "</div>"
      ],
      "text/plain": [
       "   are  call  from  hi  home  how  money  now  or  tomorrow  win  you\n",
       "0    1     0     0   1     0    1      0    0   0         0    0    1\n",
       "1    0     1     1   0     1    0      1    1   0         0    2    0\n",
       "2    0     1     0   1     0    0      0    1   1         1    0    1"
      ]
     },
     "execution_count": 25,
     "metadata": {},
     "output_type": "execute_result"
    }
   ],
   "source": [
    "frequency_matrix = pd.DataFrame(doc_array, columns = count_vector.get_feature_names())\n",
    "frequency_matrix"
   ]
  },
  {
   "cell_type": "markdown",
   "metadata": {},
   "source": [
    "### Question 8:"
   ]
  },
  {
   "cell_type": "code",
   "execution_count": 62,
   "metadata": {},
   "outputs": [],
   "source": [
    "from sklearn.feature_extraction.text import CountVectorizer\n",
    "count_vector = CountVectorizer()\n",
    "doc =  ['Hi, how are you?', 'Win money, win from home. Call now.', 'Hi., Call you now or tomorrow?']\n"
   ]
  },
  {
   "cell_type": "code",
   "execution_count": 63,
   "metadata": {},
   "outputs": [
    {
     "data": {
      "text/plain": [
       "['are',\n",
       " 'call',\n",
       " 'from',\n",
       " 'hi',\n",
       " 'home',\n",
       " 'how',\n",
       " 'money',\n",
       " 'now',\n",
       " 'or',\n",
       " 'tomorrow',\n",
       " 'win',\n",
       " 'you']"
      ]
     },
     "execution_count": 63,
     "metadata": {},
     "output_type": "execute_result"
    }
   ],
   "source": [
    "count_vector.fit(doc)\n",
    "count_vector.get_feature_names()"
   ]
  },
  {
   "cell_type": "code",
   "execution_count": 64,
   "metadata": {},
   "outputs": [
    {
     "data": {
      "text/plain": [
       "array([[1, 0, 0, 1, 0, 1, 0, 0, 0, 0, 0, 1],\n",
       "       [0, 1, 1, 0, 1, 0, 1, 1, 0, 0, 2, 0],\n",
       "       [0, 1, 0, 1, 0, 0, 0, 1, 1, 1, 0, 1]], dtype=int64)"
      ]
     },
     "execution_count": 64,
     "metadata": {},
     "output_type": "execute_result"
    }
   ],
   "source": [
    "doc_array = count_vector.transform(doc).toarray()\n",
    "doc_array"
   ]
  },
  {
   "cell_type": "code",
   "execution_count": 65,
   "metadata": {},
   "outputs": [
    {
     "data": {
      "text/html": [
       "<div>\n",
       "<style scoped>\n",
       "    .dataframe tbody tr th:only-of-type {\n",
       "        vertical-align: middle;\n",
       "    }\n",
       "\n",
       "    .dataframe tbody tr th {\n",
       "        vertical-align: top;\n",
       "    }\n",
       "\n",
       "    .dataframe thead th {\n",
       "        text-align: right;\n",
       "    }\n",
       "</style>\n",
       "<table border=\"1\" class=\"dataframe\">\n",
       "  <thead>\n",
       "    <tr style=\"text-align: right;\">\n",
       "      <th></th>\n",
       "      <th>are</th>\n",
       "      <th>call</th>\n",
       "      <th>from</th>\n",
       "      <th>hi</th>\n",
       "      <th>home</th>\n",
       "      <th>how</th>\n",
       "      <th>money</th>\n",
       "      <th>now</th>\n",
       "      <th>or</th>\n",
       "      <th>tomorrow</th>\n",
       "      <th>win</th>\n",
       "      <th>you</th>\n",
       "    </tr>\n",
       "  </thead>\n",
       "  <tbody>\n",
       "    <tr>\n",
       "      <td>0</td>\n",
       "      <td>1</td>\n",
       "      <td>0</td>\n",
       "      <td>0</td>\n",
       "      <td>1</td>\n",
       "      <td>0</td>\n",
       "      <td>1</td>\n",
       "      <td>0</td>\n",
       "      <td>0</td>\n",
       "      <td>0</td>\n",
       "      <td>0</td>\n",
       "      <td>0</td>\n",
       "      <td>1</td>\n",
       "    </tr>\n",
       "    <tr>\n",
       "      <td>1</td>\n",
       "      <td>0</td>\n",
       "      <td>1</td>\n",
       "      <td>1</td>\n",
       "      <td>0</td>\n",
       "      <td>1</td>\n",
       "      <td>0</td>\n",
       "      <td>1</td>\n",
       "      <td>1</td>\n",
       "      <td>0</td>\n",
       "      <td>0</td>\n",
       "      <td>2</td>\n",
       "      <td>0</td>\n",
       "    </tr>\n",
       "    <tr>\n",
       "      <td>2</td>\n",
       "      <td>0</td>\n",
       "      <td>1</td>\n",
       "      <td>0</td>\n",
       "      <td>1</td>\n",
       "      <td>0</td>\n",
       "      <td>0</td>\n",
       "      <td>0</td>\n",
       "      <td>1</td>\n",
       "      <td>1</td>\n",
       "      <td>1</td>\n",
       "      <td>0</td>\n",
       "      <td>1</td>\n",
       "    </tr>\n",
       "  </tbody>\n",
       "</table>\n",
       "</div>"
      ],
      "text/plain": [
       "   are  call  from  hi  home  how  money  now  or  tomorrow  win  you\n",
       "0    1     0     0   1     0    1      0    0   0         0    0    1\n",
       "1    0     1     1   0     1    0      1    1   0         0    2    0\n",
       "2    0     1     0   1     0    0      0    1   1         1    0    1"
      ]
     },
     "execution_count": 65,
     "metadata": {},
     "output_type": "execute_result"
    }
   ],
   "source": [
    "frequency_matrix = pd.DataFrame(doc_array, columns = count_vector.get_feature_names())\n",
    "frequency_matrix"
   ]
  },
  {
   "cell_type": "markdown",
   "metadata": {},
   "source": [
    "### Before generating document-term matrix, lets separate the SMS data into train and test"
   ]
  },
  {
   "cell_type": "code",
   "execution_count": 26,
   "metadata": {
    "_uuid": "1b3e28582c81d0995c2aca898972489cd47f7ffa"
   },
   "outputs": [],
   "source": [
    "from sklearn.model_selection import train_test_split\n",
    "\n",
    "X_train, X_test, y_train, y_test = train_test_split(df_sms['sms'], \n",
    "                                                    df_sms['label'],test_size=0.20, \n",
    "                                                    random_state=1)\n"
   ]
  },
  {
   "cell_type": "code",
   "execution_count": 76,
   "metadata": {
    "_uuid": "d84a48a44851dd6b927e8548e8b1cfcc0e4c0470"
   },
   "outputs": [],
   "source": [
    "# Instantiate the CountVectorizer method\n",
    "count_vector = CountVectorizer()\n",
    "\n",
    "# Fit the training data and then return the matrix\n",
    "training_data = count_vector.fit_transform(X_train)\n",
    "\n",
    "\n",
    "# Transform testing data and return the matrix. \n",
    "testing_data = count_vector.transform(X_test)"
   ]
  },
  {
   "cell_type": "code",
   "execution_count": 77,
   "metadata": {},
   "outputs": [
    {
     "name": "stdout",
     "output_type": "stream",
     "text": [
      "(4457, 7777)\n"
     ]
    }
   ],
   "source": [
    "print (training_data.shape)"
   ]
  },
  {
   "cell_type": "code",
   "execution_count": 78,
   "metadata": {},
   "outputs": [
    {
     "name": "stdout",
     "output_type": "stream",
     "text": [
      "(1115, 7777)\n"
     ]
    }
   ],
   "source": [
    "print (testing_data.shape)"
   ]
  },
  {
   "cell_type": "code",
   "execution_count": 90,
   "metadata": {},
   "outputs": [
    {
     "name": "stdout",
     "output_type": "stream",
     "text": [
      "7512\n",
      "dict_keys(['sleeping', 'nt', 'feeling', 'come', 'aftr', 'lt', 'decimal', 'gt', 'cleaning', 'house', 'sec', 'yeah', 'probably', 'earlier', 'hello', 'love', 'doing', 'did', 'interview', 'today', 'happy', 'good', 'boy', 'think', 'missing', '2mro', 'coming', 'gym', 'machan', 'goodnight', 'free', 'ring', 'tone', 'just', 'text', 'polys', '87131', 'week', 'new', '0870737910216yrs', '50', 'wk', 'camera', 'awarded', 'sipix', 'digital', '09061221066', 'fromm', 'landline', 'delivery', '28', 'days', 'tbs', 'persolvo', 'chasing', 'sept', 'forã', '38', 'definitely', 'paying', 'thanks', 'information', 'ignore', 'kath', 'manchester', 'small', 'problem', 'auction', 'punj', 'asking', 'tiwary', 'know', 'fancies', '09058097218', 'pobox', 'ls15hb', '150p', 'chance', 'search', 'hard', 'let', 'try', 'happened', 'adventuring', 'eat', 'old', 'airport', 'road', '630', 'oredi', 'got', 'lot', 'pple', 'sent', 'ur', 'email', 'id', 'soon', 'hey', 'want', 'yogasana', 'coz', 'end', 'cine', 'bathe', 'hav', 'steam', 'bath', 'fundamentals', 'cool', 'life', 'walk', 'parents', 'kidz', 'friends', 'colleagues', 'screaming', 'surprise', 'waiting', 'sofa', 'naked', 'sorry', 'missed', 'talk', 'time', '07090201529', 'ok', 'finishing', 'dun', 'say', 'early', 'hor', 'gandhipuram', 'cross', 'cut', 'right', 'street', 'turn', 'hi', 'dear', 'urgnt', 'don', 'whats', 'work', 'tell', 'wating', 'reply', 'pls', 'help', 'ashley', 'number', 'oh', 'umma', 'dont', 'studying', 'stress', 'l8r', 'stupid', 'possible', 'better', 'catch', 'ask', 'sell', 'wen', 'finish', 'wrk', 'fancy', 'meetin', 'wiv', 'tonite', 'need', 'break', 'dabooks', 'hrs', 'nite', 'movie', 'leave', 'hourish', 'taj', 'mahal', 'symbol', 'lesser', 'known', 'facts', 'mumtaz', 'shahjahan', '4th', 'wife', 'wifes', 'killed', 'husband', 'marry', 'died', 'th', 'married', 'sister', 'question', 'arises', 'hell', 'great', 'hari', 'treat', 'chinese', 'food', 'way', 'fat', 'lipo', 'complain', 'num', 'bettr', 'directly', 'bsnl', 'offc', 'nd', 'apply', 'uhhhhrmm', 'isnt', 'having', 'tb', 'test', 'bad', 'youre', 'sick', 'goodmorning', 'late', '2hrs', 'pain', 'remember', 'day', 'theory', 'going', 'book', '21', 'thought', 'wanna', 'jiayin', 'bit', 'smile', 'hppnss', 'drop', 'tear', 'sorrow', 'heart', 'like', 'wil', 'care', 'forevr', 'goodfriend', 'saying', 'clearly', 'thk', '530', 'lor', 'dunno', 'tickets', 'wat', 'hear', 'philosophy', 'happen', 'talking', 'thats', 'wont', 'read', 'exams', 'gr8', 'message', 'leaving', 'congrats', 'school', 'plans', 'belive', 'home', 'yes', 'office', 'lap', 'room', 'didnt', 'shut', 'mah', 'll', 'pick', 'tomorrow', 'gei', 'happend', 'tron', 'maybe', 'ill', 'dl', '3d', 'hurry', 've', 'weed', 'deficient', 'ringtone', 'order', 'reference', 'x29', 'mobile', 'charged', 'arrive', 'customer', 'services', '09065989180', 'amanda', 'regard', 'renewing', 'upgrading', 'current', 'handset', 'charge', 'offer', 'ends', 'tel', '0845', '021', '3680', 'subject', 'hungry', 'gay', 'guys', '08718730555', '10p', 'min', 'stop', 'texts', '08712460324', 'romcapspam', 'responding', 'presence', 'warm', 'outgoing', 'bringing', 'real', 'breath', 'sunshine', 'buy', 'space', 'invaders', 'win', 'orig', 'arcade', 'game', 'console', 'press', 'games', 'std', 'wap', 'o2', 'uk', 'terms', 'settings', 'purchase', 'ryan', 'fun', 'practicing', 'making', 'babies', 'spjanuary', 'male', 'sale', 'hot', 'chat', 'cheaper', '08709222922', 'national', 'rate', '5p', 'cheap', '8p', 'peak', 'weird', 'supposed', 'happening', 'idea', 'sure', 'pub', '25p', 'alfie', 'moon', 'children', 'song', 'mob', 'm8s', 'txt', 'charity', '8007', 'nokias', 'poly', 'zed', '08701417012', 'profit', 'face', 'choices', 'toss', 'coin', 'becoz', 'settle', 'air', 'hoping', 'gudni8', 'mean', 'king', 'havin', 'credit', 'goin2bed', 'night', 'sweet', 'only1more', 'sleep', 'phones', 'linerental', '49', 'month', '750', 'ntwk', 'mins', 'price', 'bundle', 'deals', 'avble', '08001950382', 'call2optout', 'mf', 'urgent', '09066350750', 'complimentary', 'ibiza', 'holiday', '10', '000', 'cash', 'await', 'collection', 'sae', 'cs', 'po', 'box', '434', 'sk3', '8wp', '150', 'ppm', '18', 'teach', 'seen', 'holby', 'congratulations', 'claim', 'vip', 'row', 'blu', 'concert', 'november', 'gift', 'guaranteed', '09061104276', 'ts', 'www', 'smsco', 'net', 'costã', '75max', 'wan', 'lei', 'outside', 'wun', 'neva', 'mind', 'haven', 'explicitly', 'told', 'nora', 'gonna', 'bother', '88800', '89034', 'premium', 'phone', '08718711108', 'use', 'ni8', 'getting', 'little', 'difficult', 'simple', 'enter', 'place', 'came', 'look', 'flat', '50s', 'away', 'alot', 'woman', '30', 'uncles', 'atlanta', 'wish', 'semester', 'town', 'meet', 'exciting', 'adult', 'singles', '86688', 'msg', 'later', 'tonight', 'mate', 'catching', 'really', 'dudette', 'mesages', 'hurts', 'exam', 'march', 'sppok', 'halloween', 'nokia', 'logo', 'pic', 'plus', 'eerie', 'card', 'spook', 'todays', 'vodafone', 'numbers', 'ending', '0089', 'digits', 'selected', 'received', '350', 'award', 'matches', '09063442151', 'lol', 'drunkard', 'hair', 'moment', 'wats', 'plan', 'searching', 'words', 'thank', 'breather', 'promise', 'granted', 'fulfil', 'wonderful', 'blessing', 'times', 'car', 'keys', 'purse', 'neighbors', 'smsing', 'xy', 'da', 'person', 'sort', 'bring', 'meeting', 'movies', 'laptop', 'working', 'eyes', 'quiz', 'wkly', 'sony', 'dvd', 'player', 'country', 'algarve', 'ansr', '82277', 'sp', 'tyrone', 'reached', 'sch', 'anytime', 'mail', 'miss', '8th', '500', 'msgs', '80488', 'account', 'fine', 'safe', 'wake', 'long', 'ago', 'thing', 'missionary', 'hook', 'doggy', 'standing', 'video', 'network', 'half', 'line', 'rental', 'camcorder', '08000930705', 'hate', 'does', 'turns', 'shopping', 'trip', 'annoying', 'tired', 'tomorro', '2p', 'germany', '08448350055', 'bt', 'check', 'planettalkinstant', 'com', 'info', 'opt', 'make', 'alex', 'knows', 'birthday', 'minutes', 'far', 'concerned', 'lag', 'sad', 'touch', 'skype', 'believe', 'leh', 'tot', 'true', 'muz', 'tog', 'foreign', 'stamps', 'lecture', 'pete', 'meive', 'hardly', 'gotany', 'jason', 'says', 'university', 'southern', 'california', 'swimsuit', 'allowed', 'theatre', 'grand', 'prix', '_thanks', 'tomo', 'dating', 'service', 'asked', 'contact', 'shy', '09058091870', 'revealed', 'pobox84', 'm26', '3uz', 'darlin', 'youphone', 'im', 'athome', 'youwanna', 'yar', 'sorts', 'funny', 'things', 'spare', 'head', 'faith', 'makes', 'hope', 'beautiful', 'christmas', 'merry', 'miles', 'smiles', 'frm', 'letters', 'difference', 'keeps', 'smiling', 'nyt', 'mum', 'present', 'ar', 'saturday', 'cherish', 'brother', 'role', 'model', 'hours', 'called', 'family', 'cause', 'started', 'actor', 'evening', 'unemployed', 'wait', 'bus', 'aft', 'lect', 'lar', 'needs', 'dat', 'slowly', 'vomit', '1st', 'no1', '8077', 'txting', 'mates', 'getzed', '36504', 'w45wq', '16', 'norm150p', 'sura', 'sun', 'tv', 'tones', '4u', 'rply', 'title', 'dracula', 'titles', 'ghost', 'addamsfa', 'munsters', 'exorcist', 'twilight', 'pobox36504w45wq', 'god', 'bed', 'erm', 'woodland', 'avenue', 'parish', 'magazine', 'telephone', 'completely', 'form', 'clark', 'utter', 'waste', 'joined', 'league', 'people', 'deal', 'friend', 'personal', 'cost', 'rayman', 'golf', 'post', 'save', 'activ8', 'key', 'termsapply', 'cramps', 'stopped', 'lovely', 'knowing', 'morning', 'write', 'dictionary', 'mode', 'cover', 'screen', 'hand', 'gently', 'remove', 'interesting', 'jus', 'fr', 'lunch', 'wif', 'sis', 'bank', 'money', 'hamster', 'dead', 'tmr', '1pm', 'orchard', 'mrt', 'depends', 'individual', 'dresser', 'pretty', 'gong', 'kaypoh', 'collecting', 'attend', '2morro', 'term', '2nite', 'sexy', 'passion', 'b4', '09099726481', 'luv', 'dena', 'calls', 'minmobsmorelkpobox177hp51fl', 'hows', 'champ', 'glasgow', 'mmm', 'yummy', 'babe', 'nice', 'jolt', 'suzy', 'daily', 'favour', 'play', 'driving', 'clas', 'newspapers', 'likely', 'mittelschmertz', 'google', 'paracetamol', 'worry', 'finally', 'decades', 'beer', 'petrol', 'goverment', 'expects', 'drink', 'drive', 'popping', 'ibuprofens', 'invited', 'xchat', 'final', 'attempt', 'msgrcvdhg', 'suite342', '2lands', 'w1j6hl', 'ldn', 'yrs', 'ilol', 'personally', 'wuldnt', 'goin', 'mite', 'naughty', 'flirt', 'loving', 'gettin', 'hurt', 'gud', 'screamed', 'princess', 'carlos', 'vibrate', 'acting', 'nyc', 'audiitions', 'trying', 'relocate', 'easy', 'ah', 'sen', 'means', 'nationwide', 'auto', 'centre', 'newport', 'liked', 'charges', 'transfer', 'withdraw', 'italian', 'checking', 'iq', 'thinking', 'usf', 'guess', 'meh', 'shit', 'monkey', 'bitch', 'asshole', 'left', 'til', 'dinner', 'lost', 'anymore', 'beads', 'ta', 'daaaaa', 'train', 'seat', 'lower', 'pounds', '08000776320', 'important', '02', 'user', 'lucky', 'log', 'http', 'urawinner', 'fantastic', 'awaiting', 'ahead', 'watts', 'wanted', 'weekend', 'abiola', 'shd', 'cos', 'hr', 'oni', '07xxxxxxxxx', 'won', 'bonus', 'caller', 'prize', '06', '03', '2nd', 'reach', '09066362231', 'asap', 'box97n7qp', '150ppm', 'helloooo', 'welcomes', 'enjoy', 'joy', 'mrng', 'lots', 'china', 'complete', 'gist', 'loved', 'gal', 'propsd', 'gv', 'lv', 'lttrs', 'frnds', 'threw', 'thm', 'decided', 'aproach', 'dt', 'truck', 'speeding', 'wn', 'hit', 'girl', 'ran', 'saved', 'hw', 'cn', 'run', 'fast', 'replied', 'boost', 'secret', 'energy', 'instantly', 'shouted', 'thy', 'lived', 'happily', '2gthr', 'drinking', 'evrydy', 'moral', 'story', 'hv', 'gd', 'ice', 'cream', 'oso', 'fffff', 'kadeem', 'gone', 'jos', 'wana', 'sms', 'huh', 'computational', 'science', 'push', 'detailed', 'send', 'password', 'settled', 'year', 'wishin', 'cup', 'milk', 'magic', 'loose', 'weight', 'random', 'saw', 'roomate', 'campus', 'graduated', 'slippers', 'shun', 'bian', 'watch', 'glass', 'exhibition', 'class', 'holla', 'xmas', 'radio', 'idk', 'sitting', 'shop', 'parking', 'bawling', 'feel', 'failure', 'wants', 'failing', 'amp', 'kills', 'ya', 'knw', 'vl', 'giv', 'kano', 'wit', 'salary', 'uncle', 'boye', 'guide', 'torrents', 'particularly', 'legal', 'slowing', 'online', 'honey', 'finished', 'yesterday', 'cbe', 'close', 'ma', 'fan', 'continued', 'support', 'in2', 'draw', '100', 'president', 'ans', '80082', 'happens', '2waxsto', 'medical', 'insurance', 'able', 'deliver', 'basic', 'currently', 'friday', 'major', 'details', 'fri', 'tom', 'mentionned', 'sapna', 'aunty', 'manege', 'hogidhe', 'chinnu', 'weak', 'swalpa', 'black', 'agidhane', 'brand', '7250', 'join', '86021', 'ive', 'baby', 'common', 'heat', 'pa', 'applyed', 'oil', 'transfered', 'hmmm', 'kb', 'power', 'yoga', 'haha', 'tahan', 'anot', 'lo', 'forgot', 'liao', 'ref', 'k718', '09065069120', 'actually', 'sunoco', 'howard', 'timin', 'lesson', 'nw', 'hme', 'solve', 'case', 'man', 'murdered', 'afternoon', 'police', 'questioned', 'sir', 'murder', 'took', 'cook', 'cooking', 'gardener', 'picking', 'vegetables', 'maid', 'went', 'neighbour', 'marriage', 'arrested', 'murderer', 'immediately', 'reason', 'brilliant', 'kent', 'vale', 'knock', 'weekly', '250', 'voucher', 'store', 'yr', 'choice', 'tkls', 'age16', 'stoptxtstopã', 'apo', 'thinkin', 'thatâ', 'apes', 'fight', 'death', 'minute', 'nok', '87021', 'txtin', 'hl', '4info', 'holder', 'meal', 'following', 'link', 'pc', 'dining', 'experiencehttp', 'vouch4me', 'etlp', 'asp', 'ee', 'na', 'poortiyagi', 'odalebeku', 'hanumanji', 'hanuman', 'bajarangabali', 'maruti', 'pavanaputra', 'sankatmochan', 'ramaduth', 'mahaveer', 'janarige', 'ivatte', 'kalisidare', 'olage', 'ondu', 'news', 'keluviri', 'maretare', 'inde', 'dodda', 'problum', 'nalli', 'siguviri', 'idu', 'matra', 'neglet', 'job', 'bar', 'satsgettin', '47per', 'hour', 'lie', 'hui', 'xin', 'lib', 'wkend', 'journey', 'terrible', 'huge', 'marking', 'word', 'checkmate', 'chess', 'comes', 'persian', 'phrase', 'shah', 'maat', 'spree', '80878', 'custcare', '08715705022', '1x150p', 'mom', 'fit', 'crazy', 'birth', '8lb', '7oz', 'mother', 'brilliantly', 'os', 'ubandu', 'installing', 'disk', 'copy', 'files', 'repair', 'awesome', 'payback', 'rcvd', 'hg', 'years', 'watchin', 'lido', 'horniest', 'dogging', 'sex', 'sign', 'follow', 'instructions', 'entry', '69888', 'ec2a', '3lp', 'physics', 'buns', 'ym', 'hypertension', 'aight', 'samus', 'shoulders', 'spoke', 'woke', 'quite', 'swing', 'score', 'relax', 'motivating', 'sharing', 'oops', 'didn', 'usual', 'vijay', 'film', 'different', 'promises', 'gotten', 'height', 'confidence', 'aeronautics', 'professors', 'wer', 'calld', 'askd', 'sit', 'aeroplane', 'sat', 'plane', 'ws', 'students', 'dey', 'hurried', 'said', '146tf150p', 'lovable', 'bcums', 'angry', 'wid', 'dnt', 'seriously', 'childish', 'showing', 'deep', 'affection', 'kettoda', 'manda', 'lounge', 'passes', 'using', '08704439680', 'booking', 'quote', 'boo', 'bored', 'figures', 'piece', 'priscilla', 'bowl', 'idc', 'weaseling', 'twice', 'rock', 'ahhhh', 'woken', 'dream', 'tho', 'comedy', 'returned', 'raise', 'dad', 'rest', 'available', 'mid', 'feb', 'short', 'shld', 'lessons', 'stretch', 'chief', 'bell', 'royal', 'visit', 'june', 'atleast', 'best', 'world', 'shakespeare', 'shesil', 'bluetooth', 'headset', 'simply', 'adp', 'monday', 'nope', 'mys', 'paper', 'morn', 'added', 'list', 'fullonsms', 'born', 'idiot', 'del', 'bak', 'sum', 'lucyxx', 'st', 'andre', 'virgil', 'gibbs', 'unsold', 'mike', 'hussey', 'laid', 'locations', 'direct', 'largest', 'gravel', '31p', 'bout', 'noon', 'jamster', 'frog', 'sound', 'mad1', 'mad2', '88888', 'sounds', 'gbp', 'telling', 'coulda', 'valentine', 'wasn', 'fact', 'shows', 'upset', 'priority', 'constantly', 'lick', 'ready', 'mouth', 'tacos', 'near', 'univ', 'donno', 'scorable', 'normally', 'water', 'relatives', 'costs', 'risks', 'benefits', 'jordan', 'voted', 'superior', 'department', 'waheed', 'fathima', 'conform', 'surfing', 'restaurant', 'blank', 'bag', 'shitload', 'diamonds', 'buzy', 'everybody', 'speed', 'double', 'orange', 'tariffs', 'latest', 'mobileupd8', '08000839402', '2stoptxt', 'operator', 'biz', 'lazy', 'various', 'points', 'yeovil', 'motor', 'project', '12', 'max', 'yo', 'liquor', 'guy', 'flaked', 'hold', 'somebody', 'loko', 'gifts', 'throw', 'cliff', 'yup', 'change', 'suntec', 'sunday', 'wisheds', 'spoken', 'anyways', 'lift', 'xxx', 'january', 'public', 'govt', 'instituitions', 'closed', 'including', 'understand', 'zaher', '87077', 'ac', 'blind', 'date', 'rodds1', 'aberdeen', 'united', 'kingdom', 'img', 'icmb3cktz8r7', 'dates', 'hide', 'nothin', 'hanger', 'heavy', '0796xxxxxx', 'prizeawaiting', 'rip', 'uterus', 'slp', 'swt', 'dreams', 'muah', 'youdoing', 'sar', 'watching', 'prob', 'banneduk', '89555', 'textoperator', 'g696ga', 'wlcome', 'wonder', 'eaten', 'lion', 'challenge', 'ikno', 'doesdiscount', 'shitinnit', 'ip', 'address', 'considering', 'computer', 'isn', 'minecraft', 'server', 'gave', '2000', '09064019788', 'box42wr29c', 'figuring', 'second', 'knew', 'exactly', 'registered', 'subscribers', 'replying', 'unsubscribe', 'dawns', 'refreshed', 'alive', 'breathe', 'thesmszone', 'lets', 'anonymous', 'masked', 'messages', 'sending', 'potential', 'abuse', 'signing', 'hee', 'silent', 'ugh', 'outta', 'thursday', 'bomb', 'salad', 'desert', 'beers', 'shall', 'maneesha', 'satisfied', 'experience', 'toll', 'fuuuuck', 'sleepin', 'sup', 'restrict', 'eating', 'anythin', 'likes', 'stay', 'dude', 'sux', 'snake', 'raiden', 'buff', 'b4u', '27', 'marsms', 'b4utele', 'discount', '08717168528', 'havent', 'pen', 'joke', 'biro', 'masters', 'pocay', 'wocay', '4eva', '2morrowxxxx', 'cts', 'employee', 'willing', 'pay', 'argument', 'wins', 'situation', 'loses', 'argue', 'kick', 'correct', 'chuckin', 'red', 'green', 'trainners', 'carryin', 'bac', 'hire', 'hitman', 'valued', 'pleased', 'advise', 'recent', 'review', '1500', '09066368470', 'networking', 'technical', 'associate', 'stuck', 'listen', 'omg', 'kids', 'boys', 'pissed', 'mark', 'changing', 'diapers', 'owed', 'wine', 'dine', 'lady', 'damn', 'hunting', 'block', 'breaker', 'deluxe', 'format', 'features', 'graphics', 'bbdeluxe', 'summer', 'celebrate', 'magical', 'sight', 'worlds', 'dressed', 'white', 'oooooh', 'snow', 'informed', 'mallika', 'sherawat', 'url', 'entered', 'cabin', 'boss', 'felt', 'special', 'apartment', 'ard', 'smth', 'heard', 'u4', 'rude', 'private', '01223585334', 'cum', '2c', 'pics', 'shagged', 'pix', '8552', '2end', 'sam', 'knocking', 'door', 'howz', 'ystrday', 'medicine', 'package', 'programs', 'nimbomsons', 'yep', 'obviously', 'mm', 'railway', 'lingo', 'wot', 'earth', 'knickers', 'beg', '01223585236', 'xx', 'nikiyu4', 'notice', 'rent', 'past', 'months', 'inconsiderate', 'nag', 'speak', 'recession', 'askin', 'sport', 'connection', 'coincidence', 'nelson', 'bb', 'longer', 'comin', 'expecting', 'aint', 'thanx', 'revision', 'fran', 'boyf', 'gotta', 'interviw', 'exeter', 'worried', 'jon', 'bin', 'spain', 'recently', 'dinero', 'rents', 'mayb', 'interested', '000pes', '48', 'james', 'taking', 'starts', 'yor', 'fucking', 'gas', 'tank', 'stressed', 'depressed', 'thanksgiving', 'cuz', 'rct', 'thnq', 'adrian', 'rgds', 'vatian', 'den', 'weekdays', 'haiz', 'nails', 'drivin', 'representative', 'freephone', '0808', '145', '4742', '9am', '11pm', '1000', '5000', 'edge', 'party', 'doesn', 'mention', 'served', 'hmv', 'genuine', 'vouchers', 'answer', 'questions', '100percent', 'antibiotic', 'used', 'chest', 'abdomen', 'gynae', 'infections', 'bone', 'bet', 'bull', 'floating', 'ikea', 'live', 'mess', 'jay', 'wondering', 'file', 'yahoo', 'sucks', 'set', 'page', 'download', 'disc', 'big', 'stuff', 'internet', 'prey', 'teasing', 'kiss', 'dhoni', 'luck', '4mths', '11mths', 'mobilesdirect', '08000938767', 'update', 'or2stoptxt', 'brum', 'putting', 'keeping', 'whore', 'unbelievable', 'calicut', 'audition', 'wednesday', 'contract', 'the4th', 'october', 'closer', 'weekends', 'dearly', 'smart', '200', '85222', 'winnersclub', '84', 'gbp1', 'lmao', 'brothas', 'point', '08712402902', 'hotel', 'dusk', 'puzzles', 'area', 'ukp', '09061790125', '3030', 'valid', '12hrs', 'inside', 'filling', 'forms', 'kay', 'meant', 'bridgwater', 'banter', 'ducking', 'chinchillas', 'stomach', 'trauma', 'swear', 'lose', 'unlimited', 'thinl', 'sachin', 'freezing', 'craving', 'fml', 'fujitsu', 'series', 'lifebook', 'issue', 'weigh', 'easier', 'regret', 'rite', 'evey', 'mnth', 'chikku', 'abt', 'tht', 'irritating', 'msging', 'appointment', 'gent', '09064012160', 'code', 'k52', 'alright', 'busy', 'slide', 'plate', 'leftovers', 'parkin', 'choose', 'videos', 'shsex', 'netun', 'fgkslpopw', 'fgkslpo', 'spent', 'chastity', 'device', 'grins', 'beatings', 'dog', 'applebees', 'transport', 'problematic', 'bday', 'definite', 'nos', 'shuhui', 'bought', 'ron', 'swatch', 'glorious', 'anniversary', 'finds', 'content', 'sea', 'coaxing', 'images', 'fond', 'souveniers', 'cougar', 'peace', 'miracle', 'jesus', 'blessed', 'kind', 'advice', 'reaching', 'stops', 'skateboarding', 'despite', 'gets', 'thrown', 'winds', 'bandages', 'arms', 'convey', 'regards', 'achan', 'amma', 'rakhesh', 'qatar', 'opinion', 'character', 'propose', 'seing', 'bloody', 'funky', 'asssssholeeee', 'works', 'doesnt', 'explicit', 'secs', '02073162414', '20p', 'gsex', '2667', 'wc1n', '3xx', 'malaria', 'bani', 'especially', 'kalainar', 'thenampet', 'awww', 'lonely', 'sunny', 'weather', 'onum', 'ela', 'normal', 'appt', 'flatter', 'pints', 'carlin', 'fish', 'memory', '140', '180', 'bedrm', '900', 'infront', 'excellent', 'sub', 'players', 'dress', 'panties', 'apology', 'texting', 'drugs', 'cheers', 'tex', 'mecause', 'werebored', 'okden', 'hunny', 'uin', 'soundã', 'likeyour', 'gr8fun', 'updat', 'countinlots', 'loveme', 'xxxxx', 'colours', 'euro', '2004', 'england', 'flag', '3lions', 'click', 'gals', 'nã', 'te', 'balance', 'maximize', 'cc', '08718720201', '114', '14', 'tcr', 'w1', 'hasn', 'selling', 'paranoid', 'fuck', 'okay', 'returns', 'vikky', 'clarify', 'open', 'return', 'ticket', 'preponed', 'kerala', 'conference', 'monthly', 'mobsi', '391784', 'intrepid', 'duo', 'shock', 'leona', 'reaction', 'haf', 'enuff', 'mb', 'holding', 'thts', 'wright', 'fly', 'gentleman', 'dignity', 'respect', 'poor', 'recpt', 'ordered', 'processed', '3mobile', '0870', 'chatlines', 'inclu', 'india', 'cust', 'servs', 'sed', 'l8er', 'mega', 'bailiff', '800', 'panasonic', 'bluetoothhdset', 'motorola', 'doublemins', 'doubletxt', '2optout', 'tyler', 'literally', 'dubsack', 'falls', 'share', 'bslvyl', 'uniform', 'promotion', '8714714', 'city', '88039', 'skilgme', 'tscs087147403231winawk', '50perwksub', 'tessy', 'favor', 'wishes', 'nimya', 'forget', 'shijas', 'explain', 'father', 'john', '____', 'ths', 'tis', 'ias', 'mall', 'iouri', 'kaila', 'slept', 'yest', 'brings', 'ppl', 'friendships', 'grow', 'handed', 'baaaaaaaabe', 'crave', 'nights', 'txts', 'sonyericsson', 'hf8', 'inconvenient', 'mon', 'foot', 'cancel', 'remain', 'till', 'maintain', 'sh', 'jas', 'santa', 'calling', 'ones', 'eve', '09077818151', 'calls1', '50ppm', '3mins', '30s', 'santacalling', 'tirunelvali', 'spend', 'worth', '85023', 'savamob', 'offers', 'm263uz', '00', 'vegas', 'stays', 'die', 'falling', 'bcoz', 'force', 'fall', 'smeone', 'cha', 'quiteamuzing', 'thatã', 'scool', 'login', 'changed', '25', 'credits', 'club4mobiles', 'club', '87070', 'club4', 'box1146', 'mk45', '2wt', '09090900040', 'extreme', 'dirty', 'total', 'privacy', 'sic', 'listening', '60p', '24', '7mp', '0870753331018', 'monkeys', 'certainly', 'wud', 'annoyin', 'hip', 'hop', 'jazz', 'zoom', 'mistakes', 'rose', 'blood', 'relation', 'frnd', 'some1', 'luvs', 'praying', 'noooooooo', 'fair', 'galileo', 'dobby', 'dramatic', 'schools', 'apparently', 'inch', 'dollar', 'mths', 'callback', 'orno', 'maggi', 'mee', 'age', 'recd', 'thirtyeight', 'pence', '09066358361', 'land', 'y87', 'disappeared', 'settling', 'happenin', 'ola', 'joking', 'okie', 'shoppin', 'tt', 'lemme', 'pathaya', 'enketa', 'maraikara', 'prices', 'responsibilities', 'squeeeeeze', 'hug', 'lik', 'frndshp', 'cute', 'luvd', 'bruv', 'rewarding', 'sun0819', 'posts', 'prin', 'level', 'record', 'rules', 'start', 'responsibility', 'bend', 'rule', 'thia', 'inlude', 'previews', 'ha', 'popped', 'loo', 'ed', 'silence', 'running', 'managed', 'needed', 'oxygen', 'resort', 'roller', 'option', 'reminder', 'downloaded', 'paid', 'goto', 'doit', 'mymoby', 'collect', 'lasagna', 'vodka', 'timing', 'smoke', 'shitstorm', 'attributed', 'walls', 'hearts', 'cares', 'goodnoon', '3650', '09066382422', 'ave', 'vary', 'mobiles', '300603', 'bcm4284', 'wc1n3xx', 'habit', 'poyyarikatur', 'kolathupalayam', 'unjalur', 'erode', 'dis', 'table', 'occupied', 'tree', 'piss', 'realise', 'backwards', 'fuckin', 'showr', 'wylie', 'tampa', 'sarasota', 'seeing', 'bein', 'woah', 'realising', 'reasonable', 'cheyyamo', 'men', 'mr', 'owl', 'licks', '11', 'mnths', 'records', 'wiskey', 'brandy', 'rum', 'gin', 'scotch', 'shampain', 'kudi', 'yarasu', 'dhina', 'vaazhthukkal', 'rem', 'correctly', 'decision', 'decide', 'simpler', 'market', 'shirt', 'rush', 'costa', 'sol', '09050090044', 'toclaim', 'tcs', 'pobox334', 'stockport', 'sk38xh', 'pm', 'max10mins', 'sinco', 'payee', 'icicibank', 'urn', 'confirm', 'beware', 'frauds', 'disclose', 'gran', 'onlyfound', 'afew', 'cusoon', 'honi', 'cutting', 'shoot', 'loads', 'difficulties', 'request', 'excuse', 'scotland', '4goten', 'scammers', 'regular', 'respond', 'prem', 'subscription', 'wining', '946', 'prolly', 'supervisor', 'ringtones', 'restrictions', '1000s', 'buddys', 'entertaining', 'hugh', 'laurie', 'stick', 'wouldn', 'judgemental', 'fridays', '74355', 'iscoming', 'cd', 'music', '87066', 'tnc', 'bitching', 'acted', 'buying', 'esplanade', 'divorce', 'belly', 'ahmad', 'adoring', 'shant', 'disturb', 'jia', 'software', '7250i', 'w1jhl', 'amazing', 'wrong', 'truth', 'pump', 'rain', 'boyfriend', 'si', 'slice', 'breadstick', 'thanx4', 'cer', 'gautham', 'dual', 'sim', '26th', 'july', 'nri', 'cinema', 'appeal', 'thriller', 'director', 'mac', 'mmmm', 'roommate', 'art', 'eatin', 'rooms', 'befor', 'activities', 'letter', '447801259231', 'admirer', 'looking', 'reveal', 'thinks', '09058094597', 'compass', 'map', 'soul', 'gnun', 'way2sms', 'slow', 'gentle', 'sonetimes', 'rough', 'fantasies', '08707509020', 'ntt', '1327', 'croydon', 'cr9', '5wb', 'single', 'meaning', 'plz', 'presnts', 'bcz', 'mis', 'jeevithathile', 'irulinae', 'neekunna', 'prakasamanu', 'sneham', 'prakasam', 'ennal', 'prabha', 'mns', 'pending', 'mails', 'eh', 'wanting', 'allday', 'goes', 'adore', 'alertfrom', 'jeri', 'stewartsize', '2kbsubject', 'low', 'prescripiton', 'drvgsto', '123', 'fake', 'reffering', 'member', 'credited', 'rs', 'il', 'getiing', 'acc', 'reckon', 'arrange', 'gudnite', 'tc', 'practice', 'bigger', 'library', 'joanna', 'freaking', 'looked', 'photos', 'myspace', 'logged', 'expert', 'pleasure', 'trouble', 'pours', 'sum1', 'loves', 'icic', 'attracts', 'value', 'la', 'ex', 'western', 'prefer', 'hopefully', 'asus', 'randomly', 'reformat', 'generally', 'uncountable', 'noun', 'pieces', 'research', 'polyphonic', 'super', 'sn', 'pobox202', 'nr31', '7zs', '450pw', 'evo', 'flash', 'jealous', 'hiding', 'stranger', 'planning', 'usually', 'hella', 'accidentally', 'deleted', 'suppose', 'archive', 'dip', 'cell', 'prevent', 'dehydration', 'giving', 'fluids', 'favourite', 'sculpture', 'karaoke', 'type', 'planned', 'debating', 'football', 'course', 'coimbatore', '86888', 'reward', 'subscribe6gbp', '3hrs', 'txtstop', 'gamb', 'noe', 'colour', 'entrepreneurs', 'dice', 'tall', 'sliding', 'midnight', 'invite', 'business', 'february', 'april', 'hustle', 'forth', 'season', 'moved', 'harlem', 'doubt', 'handle', 'tightly', 'aunt', 'nike', 'pocy', 'pookie', 'pie', 'billy', 'jogging', 'subpoly', '81618', '08718727870', 'multiply', 'independently', 'count', 'division', 'places', 'showed', 'action', '80608', 'movietrivia', '08712405022', 'mentor', 'percent', 'bugis', 'juz', 'walking', 'din', 'voicemail', '08719181503', 'okey', 'dokey', 'iâ', 'sorting', 'entitled', '08002986030', 'aiya', 'bold', 'torch', 'aren', 'imma', 'flip', 'pool', 'bunch', 'lotto', '09066368753', '97n7qp', 'persons', 'kallis', 'dismissial', 'fills', 'calm', 'reassurance', 'station', 'cann', 'voice', 'asa', '09096102316', '2moro', 'jane', 'callsã', 'minmoremobsemspobox45po139wa', 'misundrstud', 'urself', 'gn', 'hmv1', 'sptv', 'jersey', 'devils', 'detroit', 'wings', 'hockey', 'incorrect', 'fixed', 'access', '0844', '861', '85', 'prepayment', 'telediscount', 'valentines', 'proof', 'fb', 'glad', 'rupaul', 'tool', 'easter', 'instead', 'immed', 'warwick', 'tmw', 'canceled', 'havn', 'ages', 'forwarded', 'giggle', 'possibly', 'person2die', 'nvq', 'aiyar', 'scold', 'takes', 'temp', 'unmits', 'pei', 'bf', 'living', 'perfect', 'partner', 'community', '100p', 'behave', 'status', 'frequently', 'wasted', 'chiong', 'bishan', 'reception', 'catches', 'randomlly', '5min', 'opening', 'victoria', 'island', 'traffic', 'album', 'lookin', 'impossible', 'treats', 'released', 'remind', 'necessary', 'painful', 'toughest', 'couldn', 'ended', 'rays', 'leaves', 'worries', 'blue', 'bay', '09', '0871', '872', '9755', 'box95qu', 'menu', 'stage', 'laugh', 'aha', 'crying', 'building', 'imprtant', 'tomorw', '600', 'landmark', 'bob', 'barry', 'ben', '83738', 'fighting', 'fightng', 'dificult', 'laughing', 'winning', 'tooo', 'nte', 'sexychat', 'girls', 'chatting', 'hai', 'ana', 'tomarrow', 'sathy', 'rto', 'cutest', 'steamboat', 'cashed', 'announced', 'blog', 'brownie', 'macho', 'budget', 'dollars', 'sports', 'lyk', 'footbl', 'crckt', '0800', '169', '6031', '10am', '9pm', 'madam', 'neshanth', 'repent', 'prepared', 'finalise', 'travel', 'nightnight', 'tirupur', 'silver', 'wipro', 'celebrations', 'smoking', 'taste', 'curry', 'management', 'cardiff', 'uni', 'loosu', 'hospital', 'careless', '09090204448', 'minded', 'aã', 'minapn', 'ls278bb', 'stock', 'stressful', 'realy', 'soz', 'imat', 'mums', 'buffet', '4the', 'genius', 'imagine', 'unlike', 'docs', 'patients', 'turkeys', 'friendship', '09061749602', 'tenerife', '528', 'hp20', '1yf', 'guoyang', 'derek', 'gnarls', 'barkleys', 'totally', 'quick', 'ambitious', 'aids', 'patent', 'local', 'flirtparty', 'replys150', 'dialogue', 'reltnship', 'stitch', 'trouser', 'aiyah', '89545', '087187262701', '50gbp', 'mtmsg18', '0a', 'networks', 'allow', 'companies', 'responsible', 'suppliers', 'coffee', 'frens', 'fren', 'drove', 'submitting', 'hopeing', 'wasnâ', 'sisters', 'thangam', 'shola', 'college', 'academic', 'secretary', 'sagamu', 'lautech', 'vital', 'completes', 'education', 'nigeria', 'expensive', 'unless', 'citizen', 'rates', 'zealand', 'roast', 'iã', 'drinks', 'indian', 'blackberry', 'buyer', '4a', 'cloth', 'pack', 'tablets', 'rebtel', 'firefox', 'pin', 'display', 'speaking', 'hiya', 'stu', 'truble', 'evone', 'hates', 'av', 'bck', 'dan', '2marrow', 'wed', 'lead', 'itã', 'unique', 'deserve', 'tight', 'chosen', 'receive', '09066364311', 'shower', 'phoned', 'disconnected', 'captain', 'donate', 'unicef', 'asian', 'tsunami', 'disaster', 'fund', '864233', 'payments', 'fedex', 'weeks', '09066361921', 'cutie', 'wales', 'kinda', 'hills', 'avent', 'mistake', 'doctor', 'appy', 'fizz', 'contains', 'cancer', 'causing', 'screwd', 'moji', 'lives', 'drugdealer', 'daddy', 'scream', 'slap', 'ass', 'dick', 'looks', 'scrumptious', 'fellow', 'wow', 'sooo', 'barely', 'stand', 'performance', 'calculated', 'period', 'diff', 'borrow', 'shade', 'setting', 'loverboy', 'sighs', 'gam', 'outstanding', 'innings', 'mokka', 'sian', '08718738034', '31', 'december', '2005', 'ruin', 'thesis', 'round', 'barring', 'sudden', 'influx', 'aathi', 'pilates', 'workin', 'nearly', 'rang', 'kate', 'loss', 'gain', 'followed', 'gender', 'wither', '23f', '23g', 'antha', 'corrct', 'dane', 'iam', 'babes', 'scary', '2mrw', 'sumthin', 'fantasy', 'sky', 'gamestar', 'active', '250k', 'team', 'scoring', 'register', '88088', 'met', 'nichols', 'middle', 'dealing', '2find', 'enjoyed', 'fondly', 'thot', 'pouch', '0776xxxxxxx', '18yrs', 'dai', 'exe', 'macha', 'assume', 'mindset', 'begin', 'fights', 'harish', 'transfred', 'acnt', 'recognise', 'extra', 'fridge', 'oi', 'ami', 'parchi', 'kicchu', 'kaaj', 'korte', 'iccha', 'korche', 'tul', 'strongly', 'feels', 'sacrifice', 'clear', 'creativity', 'stifled', 'audrey', 'wifi', '3g', 'blanked', 'raji', 'hanging', 'anti', 'avoiding', 'burden', 'selflessness', 'plenty', 'texted', 'pshew', 'wishing', 'speechless', 'easily', 'lengths', 'behalf', 'stunning', 'hun', 'ru', 'walkabout', 'dry', 'trade', 'brought', 'shiny', 'warming', 'constant', 'cared', '61610', '08712400602450p', 'provided', 'tones2you', 'nah', 'reality', 'website', 'apeshit', 'welcome', '24m', 'subs', 'expired', 'monoc', 'monos', 'polyc', 'stream', '0871212025016', 'canã', 'cornwall', 'isnã', 'shite', 'kip', 'payed', 'suganya', 'field', 'quickly', 'administrator', 'study', 'lightly', 'custom', 'checkboxes', 'hardcore', 'concentrate', 'papers', 'jacket', 'euro2004', 'kickoff', 'kept', 'results', '83222', 'park', 'dying', 'figure', 'tried', '400', '087104711148', 'solved', 'cat', 'xam', '1thing', 'answr', 'cud', 'contacted', '09111032124', 'pobox12n146tf150p', 'kaiez', 'tuition', 'gee', 'beta', 'yan', 'jiu', 'dislikes', 'chad', 'gymnastics', 'site', 'christians', 'sittin', 'waitin', 'wind', 'drops', 'telugu', 'purity', 'reading', 'evng', 'guai', 'shoul', 'mystery', 'opened', 'batch', 'sweetie', 'burial', 'mojibiola', '087018728737', 'toppoly', 'tune', 'pole', 'unsub', 'amy', 'ure', 'intelligent', 'donã', 'freemsg', '84025', 'web2mobile', 'txt250', '50p', 'box139', 'la32wu', 'txtx', 'hen', 'pictures', 'facebook', 'al', 'salam', 'wahleykkum', 'grace', 'tayseer', 'tissco', 'inshah', 'allah', 'visitor', 'jd', 'accounts', 'executive', 'petey', 'whereare', 'friendsare', 'thekingshead', 'canlove', 'nic', 'cock', 'hubby', 'satisfy', '89938', 'strings', 'rec', '50ea', 'otbox', '731', 'la1', '7ws', 'fishrman', 'dark', 'waited', 'sack', 'ful', 'stones', 'strtd', 'throwin', 'pass', 'atlast', '1stone', 'blake', 'occurs', 'syria', 'canada', '09066364589', 'staying', 'bloomberg', 'center', '447797706009', 'future', 'careers', 'goal', 'arsenal', 'henry', 'liverpool', 'scores', 'shot', 'yards', 'bergkamp', 'margin', '78', 'joys', 'lifeis', 'waking', 'daywith', 'thoughts', 'somewheresomeone', 'tosend', 'greeting', 'convincing', 'mas', 'brison', 'language', 'ge', 'pound', '08712101358', 'positions', 'kama', 'sutra', 'prospects', 'prakesh', 'ey', 'downon', 'theacusations', 'itxt', 'iwana', 'wotu', 'doin', 'thew', 'haventcn', 'up4', 'nething', 'exhausted', 'pleasant', 'checked', 'statements', 'costing', 'offering', 'south', 'preferably', 'kegger', 'thurs', 'faster', 'group', 'attached', 'agree', 'ipad', 'strict', 'teacher', 'teaches', 'conducts', 'mumhas', 'beendropping', 'theplace', 'adress', 'jackson', '7ish', 'melle', 'oru', 'minnaminunginte', 'nurungu', 'vettam', 'callertune', 'callers', '2006', 'fifa', 'held', '87239', 'battery', 'belongs', 'pray', 'fated', 'shoranur', 'incident', 'hands', 'fuelled', 'concern', 'prior', 'grief', 'chain', 'violence', 'women', 'hassling', 'andres', 'haughaighgtujhyguj', '2morrow', 'telly', 'brdget', 'jones', 'avatar', 'nigro', '2007', 'tour', 'pre', '81303', 'trackmarque', 'vipclub4u', 'chinatown', 'porridge', 'claypot', 'rice', 'yam', 'cake', 'fishhead', 'beehoon', 'cafe', 'tok', 'nydc', 'somethin', '21870000', 'mailbox', 'messaging', 'alert', '40', '09056242159', 'retrieve', 'cc100p', 'mathews', 'tait', 'edwards', 'anderson', 'rcv', 'svc', '69988', 'verify', '09061790121', 'kitty', 'shaved', 'natural', 'hooch', 'toaday', 'fell', 'splat', 'grazed', 'knees', 'stayed', 'velusamy', 'company', 'facilities', 'nauseous', 'sweets', 'pig', 'dieting', 'stalk', 'profiles', 'lavender', 'starting', 'tscs', 'idew', 'skillgame', '1winaweek', '150ppermesssubscription', 'approaching', 'sankranti', 'republic', 'shivratri', 'ugadi', 'fools', 'independence', 'teachers', 'childrens', 'ganesh', 'festival', 'dasara', 'diwali', 'mornings', 'afternoons', 'evenings', 'rememberi', 'raj', 'honesty', 'tough', 'decisions', 'fever', 'vomitin', 'brolly', 'english', 'franxx', '0207', '083', '6089', 'ummmmmaah', 'younger', 'occasion', 'celebrated', 'reflection', 'values', 'desires', 'affections', 'traditions', 'ideal', 'hoped', 'regretted', 'hmm', 'wherre', 'boytoy', 'diet', 'flew', 'window', 'deus', 'mmmmm', 'sooooo', 'devouring', 'cold', 'winner', 'foley', 'ipod', 'prizes', 'eye', '82050', 'naal', 'eruku', 'ffffuuuuuuu', 'bottle', 'amused', 'british', 'hotels', 'dial', '08712300220', 'bx526', 'sw73ss', 'nutter', 'cutter', 'ctter', 'cttergg', 'cttargg', 'ctargg', 'ctagg', 'garden', 'selection', 'bulbs', 'seeds', '33', 'scotsman', 'go2', 'notxt', '08707500020', 'whatsup', 'mt', 'creep', 'select', 'specially', 'trained', 'advisors', 'dialling', '402', 'sry', '2003', 'statement', 'redeemed', '08715203685', 'identifier', '4xx26', 'expires', '13', '04', 'thinked', '09050000928', 'pobox45w2tg150p', 'bã', 'base', 'interflora', 'flowers', '505060', 'appreciate', 'photoshop', 'sef', 'darling', 'anjie', '09050003091', 'c52', 'valid12hrs', 'mummy', 'positive', 'negative', 'hmmmm', 'drunk', 'motherfucker', '449071512431', '1250', '09071512433', '050703', 'csbcm4235wc1n3xx', 'callcost', 'mobilesvary', 'maxã', 'darren', 'lim', 'mp3', 'northampton', 'afraid', 'skyving', 'ho', 'competition', '1450', '09050002311', 'b4280703', '08718727868', '08002986906', 'tms', 'widelive', 'index', 'wml', '820554ad0a1705572711', 'trueã', 'ringtoneã', '09050001295', 'a21', 'selfish', 'urination', '40gb', '83355', 'ibhltd', 'ldnw15h', 'mtmsgrcvd18', 'invitation', 'apologise', 'cali', 'bloke', 'weddin', 'luton', '0125698789', 'discuss', 'losing', 'build', 'snowman', 'angels', 'snowball', 'infernal', 'affairs', 'vday', 'parachute', 'coins', 'prepare', 'pleasured', 'chicken', 'broth', 'ramen', 'prof', 'passed', 'sem', 'student', 'enna', 'kalaachutaarama', 'washob', 'nobbing', 'nickey', 'platt', 'ringtoneking', '84484', 'nitros', 'crash', 'slave', 'punish', 'staff', 'nus', 'edu', 'sg', 'phyhcmk', 'teaching', 'pc1323', 'maths', 'chapter', 'greet', 'famous', 'develop', 'ability', 'unconditionally', 'temper', 'self', 'transaction', 'guessing', 'guessed', 'bright', 'light', 'massages', 'fave', 'position', 'omw', 'vague', 'inform', 'accounting', 'delayed', 'housing', 'agency', 'renting', 'usc', 'useless', 'identification', 'wrc', 'rally', 'oz', 'lucozade', 'le', '61200', 'packs', 'itcould', 'bruce', 'downs', 'fletcher', 'problems', 'suggestion', 'lands', 'helps', 'forgt', 'previous', 'wah', 'def', 'conditions', 'blur', 'sized', 'refilled', 'successfully', 'inr', 'keralacircle', 'prepaid', 'kr', '09058097189', 'useful', 'denying', 'bud', 'prashanthettan', 'anna', 'nagar', 'dealer', 'freedom', 'lunsford', 'engin', 'arts', 'clean', 'suite', 'xavier', 'seconds', 'warning', 'samantha', 'playing', 'guitar', 'impress', 'doug', 'realizes', 'gary', 'split', 'ptbo', 'career', 'indyarocks', 'phonebook', 'track', 'lighters', 'dirt', 'floor', 'windows', 'flowing', 'chores', 'exist', 'hail', 'mist', 'north', 'carolina', 'texas', 'atm', 'gre', 'sleepwell', 'basically', 'lately', 'footie', 'blow', 'phil', 'neville', 'ne', 'wrking', 'nxt', 'hdd', 'casing', 'wasnã', 'fault', 'spouse', 'pmt', '4give', 'shldxxxx', 'photo', 'yck', 'pussy', 'cupboard', 'tease', 'grave', 'cruise', 'oic', 'argh', 'spotty', 'province', 'sterling', 'wearing', 'grinder', 'moby', 'high', 'duchess', '008704050406', 'bro', 'creative', 'quality', 'calculation', 'units', 'accent', '4years', 'dental', 'nmde', 'wet', 'forwarding', 'frndship', 'electricity', 'picture', 'violated', 'flights', 'europe', '10th', '09050000555', 'ba128nnfwfly150ppm', 'wasnt', 'chit', 'logon', '8883', 'cm', '4217', 'london', 'w1a', '6zf', '118p', 'wtlp', 'wrkin', 'mad', 'risk', '09053750005', '310303', '08718725756', '140ppm', 'pride', 'shouldn', 'takin', 'kid', 'grownup', 'durban', 'tape', 'kindly', 'feelin', 'wuld', 'em', 'nuther', 'include', 'suffers', 'discreet', '83110', 'garage', 'bookshelf', 'west', 'palm', 'crucify', 'haunt', 'sorted', 'promoting', 'hex', 'rumour', 'chennai', 'veggie', 'pizza', 'cam', 'applausestore', 'monthlysubscription', 'max6', 'csc', 'web', '2stop', 'blankets', 'sufficient', 'thx', 'curious', 'sugar', 'flirting', 'zoe', 'videophones', '09063458130', 'videochat', 'java', 'dload', 'polyph', 'noline', 'rentl', 'bx420', 'ip4', '5we', 'sense', 'penis', 'significant', 'burger', 'killing', 'leo', 'lodge', 'okors', 'loxahatchee', 'burning', 'stars', 'pants', 'leads', 'passionate', 'floppy', 'snappy', 'upload', '08718730666', 'rushing', 'tlp', 'wahala', 'blogging', 'magicalsongs', 'blogspot', 'meat', 'lovers', 'supreme', 'eighth', 'gf', 'parked', 'sunroof', 'keen', 'nalla', 'adi', 'entey', 'nattil', 'kittum', 'coat', 'wear', 'roger', 'buyers', 'vote', 'birthdate', 'method', 'tallent', 'wasting', 'greatness', 'computerless', 'oreo', 'truffles', 'loan', 'purpose', '75', 'homeowners', 'tenants', 'previously', 'refused', '1956669', 'shortly', 'quit', 'combine', 'parts', 'tncs', 'ldew', 'com1win150ppmx3age16', 'ride', 'balloon', 'carry', 'disturbing', 'dentist', 'port', 'step', 'weightloss', 'ebay', 'goods', 'freefone', '08006344447', 'remb', 'dorm', 'themob', 'pink', 'panther', 'sugababes', 'zebra', 'animation', 'badass', 'hoody', 'wallpaper', 'moms', 'checkup', 'aka', 'pap', 'smear', 'pattern', 'crap', 'tagged', 'wee', 'opportunity', 'add', 'prayers', 'dub', 'je', 'perpetual', 'dd', 'vewy', 'lubly', 'freak', 'chop', 'mu', 'switch', 'fone', 'dammit', 'passable', 'phd', '5years', 'picked', 'flower', 'dippeditinadew', 'lovingly', 'touched', 'itwhichturnedinto', 'gifted', 'tomeandsaid', '08708800282', 'wnevr', 'fal', 'vth', 'books', 'fals', 'yen', 'madodu', 'nav', 'pretsorginta', 'nammanna', 'pretsovru', 'alwa', 'eveb', '07815296484', '08718738001', '41782', 'heehee', '09095350301', 'erotic', 'ecstacy', 'nat', 'complexities', 'freely', 'taxes', 'outrageous', 'yijue', 'regarding', '3230', 'textbook', 'intro', 'algorithms', 'edition', 'anyplaces', 'voda', '5226', 'hava', 'match', 'quoting', '1131', 'standard', 'app', 'pandy', '4w', 'technologies', 'caring', 'adjustable', 'cooperative', 'law', 'allows', 'derp', 'worse', 'complaint', 'drug', 'abusers', 'funeral', '07808726822', '9758', 'callon', 'loud', 'spontaneously', 'goodevening', 'hundreds', 'handsomes', 'beauties', 'aunties', 'awake', 'morphine', 'hostel', 'hrishi', '88066', '3pound', '09058094583', 'matter', 'hitter', 'doc', 'fiting', 'load', 'abi', 'posted', 'mj', 'rcb', 'battle', 'bang', 'kochi', 'horny', 'strt', 'netcollex', 'ltdhelpdesk', '02085076972', 'bbq', '6ish', 'cal', '09064012103', 'box334sk38ch', 'mmmmmm', 'beach', 'expected', '1mega', 'pixels', '3optical', '5digital', 'dooms', 'couple', 'atten', 'mornin', 'thanku', 'smokes', 'justify', 'ruining', '0871277810710p', 'significance', 'turning', 'blame', 'happiness', 'essential', 'gods', 'blessings', 'astrology', '116', 'oclock', 'bash', 'nhs', 'report', '2b', 'terminated', 'inconvenience', 'teams', 'romantic', 'scenery', 'hellogorgeous', 'lst', 'nitw', 'texd', 'hopeu', 'ad', '4ward', 'jaz', 'lobby', 'jontin', 'hill', 'monster', 'lifted', 'hopes', 'approaches', 'pt2', '87575', 'varunnathu', 'edukkukayee', 'raksha', 'ollu', 'get4an18th', 'borin', 'boggy', 'boring', 'biatch', 'tuesday', 'straight', 'arabian', 'steed', 'kisses', 'newquay', 'postcard', '1im', 'talkin', 'raining', 'senthil', 'hsbc', 'answers', 'broke', 'castor', 'kidding', 'papa', 'westshore', 'hyde', 'village', 'timi', 'clearing', 'cars', 'thread', 'gauge', 'patty', 'kicks', 'nvm', 'ish', 'note', 'robs', 'avenge', 'el', 'nino', 'di', 'unintentionally', 'fingers', 'trains', 'grab', '6times', 'items', '7cfca1a', 'played', 'subscribed', '82324', 'helpline', '08706091795', 'indicate', '3750', 'accident', 'thkin', 'parco', 'nb', 'geeeee', 'x49', '09065989182', '10k', '09064018838', 'cro1327', 'tells', 'chocolate', 'melt', 'sunlight', 'reverse', 'cheating', 'mathematics', 'ground', 'amla', 'announcement', 'premier', 'printing', 'handing', 'eek', 'american', 'singing', 'plaza', 'theoretically', 'huiming', 'harri', 'logging', 'geoenvironmental', 'implications', 'needy', 'pouts', 'stomps', 'feet', '08718723815', 'losers', 'sary', 'tim', 'bollox', 'tol', 'requests', 'factory', 'pickle', 'natalie', '20', 'inviting', '165', 'natalie2k9', '62468', 'rhythm', 'establish', 'body', 'learn', 'actual', 'harder', 'nbme', 'bothering', 'trust', 'japanese', 'proverb', 'version', 'strike', 'deepest', 'darkest', '09094646631', 'steyn', 'surely', 'wicket', 'supose', 'babysit', 'booked', 'cried', 'slower', 'maniac', 'er', 'mw', 'filled', 'tuth', 'sticky', 'abstract', 'sts', 'inclusive', 'comuk', '08700469649', 'box420', 'missy', 'welp', 'semiobscure', 'bw', 'bucks', 'noncomittal', 'teeth', 'maintaining', '786', 'unredeemed', '08719181259', '26', '05', 'adding', 'zeros', 'savings', 'somewhat', 'event', 'laden', 'throat', 'wrecked', 'signal', 'unusual', 'hugs', 'snogs', 'error', 'armenia', 'swann', 'smsservices', 'yourinclusive', '3qxj9', '08702840625', '220', 'cm2', '9ae', 'chart', 'heroes', 'receiving', 'tips', 'ideas', 'bye', 'arnt', 'xxxxxxxxxxxxxx', 'sha', 'cps', 'outages', 'conserve', 'hols', 'med', 'stamped', 'envelope', '113', 'bray', 'wicklow', 'eire', 'minus', 'paragraphs', 'chechi', 'sore', 'jolly', 'addicted', 'cr', 'haul', 'lou', 'goodnite', 'shame', 'gailxx', 'aiyo', 'mei', 'bao', 'sugardad', 'fucks', 'sake', 'meg', '09058091854', 'box385', 'm6', '6wu', 'maaaan', 'siva', 'sundayish', '3510i', 'deliveredtomorrow', '300', '5k', '09064011000', 'cr01327bt', 'fixedline', 'addie', 'asks', 'disconnect', 'iz', 'terrorist', 'itz', 'confirmd', 'verified', 'cnn', 'ibn', 'avoid', 'elama', 'mudyadhu', 'hahaha', 'brain', 'watched', 'reg', 'ciao', 'izzit', 'heavily', 'surprised', 'french', 'fooled', 'lover', 'names', 'name1', 'name2', 'mobno', 'adam', '07123456789', 'txtno', 'ads', 'brah', 'lit', 'wesley', 'txtauction', 'image', 'langport', 'go2sri', 'lanka', 'talent', 'pai', 'seh', 'scared', 'bits', 'hooked', '09066612661', 'complementary', 'wa14', '2px', 'sender', 'hol', 'reache', 'quarter', 'youi', 'claire', 'alto18', 'wave', '44345', 'jada', 'kusruthi', 'spl', 'matured', 'stylish', 'randy', 'female', '08700621170150p', 'earn', 'gastroenteritis', 'replace', 'reduce', 'meds', 'limiting', 'illness', '4882', '09064019014', '4qf2', 'okmail', 'dave', '09061743806', 'box326', 'cw25wx', 'sigh', 'alter', 'roles', 'outreach', 'mel', 'lab', 'shaking', 'booty', 'dance', 'onion', 'schedule', 'lunchtime', 'organise', 'profile', 'bpo', '09061744553', 'polyh', '150pm', 'practical', 'soryda', 'sory', 'comp', 'pod', '80182', '08452810073', 'alcohol', 'btw', 'alibi', '88877', 'textcomp', '09065171142', 'stopsms', '08718727870150ppm', 'arguing', 'strong', 'gram', 'sends', 'greetings', 'prestige', 'caroline', 'bless', 'lyrics', 'sane', 'helping', 'sing', 'outsider', '62220cncl', 'stopcs', '08717890890ã', 'uploaded', 'womdarfull', 'ate', 'slices', 'spice', 'arrow', 'jjc', 'tendencies', 'gravity', 'carefully', 'newest', 'harry', 'potter', 'phoenix', 'readers', 'pleassssssseeeeee', 'sportsx', 'embarassed', 'delete', 'tag', 'messy', 'laundry', 'underwear', 'bras', 'strewn', 'pillows', 'tiring', 'modules', 'concentrating', 'ambrith', 'madurai', 'arun', 'dha', 'marrge', 'remembr', 'rajas', 'burrito', 'fixes', 'spelling', 'worc', 'foregate', 'shrub', 'axis', 'auntie', 'huai', 'juan', '09071517866', '150ppmpobox10183bhamb64xe', 'olave', 'mandara', 'trishul', 'tension', 'machi', 'treasure', 'uh', 'heads', 'noisy', '09061702893', 'w8in', '4utxt', '82242', 'hlp', '08712317606', 'msg150p', '2rcv', 'everyday', 'cheat', 'fatty', 'rgent', 'audrie', 'lousy', 'autocorrect', 'expect', 'specific', 'jaklin', 'denis', 'mina', 'passport', 'a30', 'divert', 'wadebridge', 'view', 'gays', 'sdryb8i', 'tddnewsletter', 'emc1', 'thedailydraw', 'helen', 'dozens', 'prizeswith', 'skyped', 'kz', 'given', 'ultimatum', 'countin', 'aburo', '07008009200', 'ic', 'mary', '2wks', 'goals', 'villa', '09058094599', 'footy', 'stadium', 'large', 'coca', 'cola', '2years', 'strain', 'dime', 'gives', 'prince', 'charming', 'free2day', 'george', '89080', 'saucy', 'celeb', 'pocketbabe', '0870241182716', 'consider', 'bunkers', 'peaceful', 'throws', 'brothers', 'whos', 'bffs', 'carly', '7548', '4041', 'bird', 'purchases', '09050000460', 'j89', 'box245c2150pm', 'shanghai', '21st', 'cya', 'snowboarding', 'affair', 'someonone', '09064015307', 'err', '8pm', 'xuhui', 'gmw', 'connected', 'cantdo', 'anythingtomorrow', 'myparents', 'aretaking', 'outfor', 'katexxx', 'missunderstding', 'beloved', '88600', '087016248', 'slaaaaave', 'summon', 'lacking', 'particular', 'dramastorm', 'hont', 'operate', 'delivered', 'wnt', 'tlk', 'ooh', '4got', 'dancing', 'moseley', 'weds', 'geeee', 'cuddling', 'goggles', 'taxt', 'massage', 'tie', 'pos', 'lool', 'yetty', 'unable', 'connect', 'mobs', '2u', 'breathe1', 'crazyin', 'sleepingwith', 'finest', 'ymca', 'pobox365o4w45wq', '300p', 'lodging', '078', 'ding', 'fassyole', 'blacko', 'londn', 'slurp', 'subscriber', 'receipt', 'elvis', 'presleys', '80062', 'formatting', 'ttyl', 'renewal', '08712103738', 'scrounge', 'ammo', 'ak', 'entertain', 'tat', 'resolution', 'frank', 'becz', 'undrstndng', 'avoids', 'suffer', 'whn', 'smoked', 'taunton', 'lifetime', '83600', '69696', 'wendy', 'toyota', 'camry', 'olayiwola', 'mileage', 'dough', 'landing', 'jerk', 'sleepy', 'bhaji', 'cricketer', 'nap', 'forward', 'christmassy', 'crashed', 'cuddled', 'nan', 'sonathaya', 'soladha', 'queen', 'ache', 'desparately', '09050001808', 'm95', 'envy', 'didntgive', 'bellearlier', 'desparate', 'recorded', 'mcfly', 'ab', 'sara', 'jorge', 'smith', 'apps', 'varaya', 'elaya', 'ayo', 'travelled', 'forgotten', '09061213237', 'luxury', 'canary', 'islands', '177', 'm227xy', 'ball', 'moving', 'spin', 'bat', 'guides', 'nose', 'essay', 'alrite', 'jod', 'keris', 'smidgin', 'peach', 'tasts', 'lush', 'jst', 'heaven', '08701417012150p', 'healthy', 'rd', 'bathing', 'habba', 'casualty', 'stuff42moro', 'includes', 'sheets', '07973788240', '08715203649', '40533', 'honeybee', 'sweetest', 'laughed', 'havnt', 'crack', 'jokes', 'gm', 'noiã', 'nit', 'js', 'linear', 'algebra', 'converted', 'rahul', 'dengra', 'rencontre', 'mountains', 'neft', 'beneficiary', 'nasty', 'filthyguys', 'slo', '4msgs', 'thinkthis', 'dangerous', 'nver', 'somtimes', 'occupy', 'biggest', 'wamma', 'doggin', 'uks', 'dogs', 'messenger', 'classes', 'dodgey', 'recovery', 'call09050000327', 'rstm', 'sw7', '3ss', 'reminded', 'firmware', 'horse', 'racing', '7pm', 'andros', 'steal', 'designation', 'developer', 'necesity', 'witout', 'colleg', 'wth', 'functions', 'thnk', 'events', 'espe', 'irritated', '4wrd', 'wthout', 'takecare', 'muhommad', 'penny', 'lord', 'rings', 'lotr', 'soundtrack', 'cds', 'stdtxtrate', 'authorise', 'payment', 'ladies', 'genus', 'velly', 'yetunde', 'forgive', 'lucy', 'meetins', 'cumin', '2day', '09099726395', 'yeesh', 'asleep', 'coping', 'distance', 'perf', 'narcotics', 'limit', 'measure', 'boundaries', 'endless', 'stash', 'grr', 'forever', 'prescription', 'pharmacy', 'twins', 'slightly', 'disastrous', 'fav', 'darlings', 'wld', 'placement', '730', 'vivek', 'aah', 'arm', 'motivate', 'darkness', 'shining', 'completed', 'degree', 'joining', 'finance', 'rofl', 'betta', 'invest', 'aging', 'products', 'grandma', 'parade', '4d', '1405', '1680', '1843', 'boston', 'location', 'signin', '09064017305', 'pobox75ldns7', '07734396839', 'ibh', 'loyalty', 'nokia6600', '81151', '4t', 'sue', 'lapdancer', 'bedroom', 'g2', '1da', '150ppmsg', '542', '0825', 'qet', 'owns', 'property', 'mca', 'enc', 'swollen', 'glands', 'hall', 'manage', 'hesitation', 'silently', 'intha', 'ponnungale', 'ipaditan', 'guild', 'bristol', 'flight', 'barbie', 'ken', 'ps', 'grown', 'yelling', 'scrappy', 'strange', 'mag', 'weâ', '24th', 'excuses', 'neglect', 'alian', 'escape', 'kavalan', 'filthy', 'stories', 'obedient', 'cruisin', 'jenny', 'jokin', '09064017295', 'crickiting', 'showered', 'ything', 'hhahhaahahah', 'wtf', 'nig', 'leonardo', 'training', 'acl03530150pm', 'restocked', 'recorder', 'canname', 'capital', 'australia', 'mquiz', 'changes', '6hrs', 'appendix', 'range', 'chill', '08718726971', 'ericson', 'der', 'luks', 'modl', 'simpsons', 'band', 'eldest', '515', 'weighed', 'woohoo', 'woo', 'hoo', 'fret', 'ovulation', 'strips', 'postal', 'style', 'garments', 'needa', 'mcat', 'turned', 'natalja', '440', 'nat27081980', 'fireplace', 'icon', 'rdy', 'ship', 'fo', 'senor', 'wondar', 'flim', 'armand', 'improve', 'cheque', 'meets', 'equally', 'uneventful', 'pesky', 'cyclists', 'advance', 'jp', 'mofo', 'walmart', 'virtual', '09066649731from', 'crammed', 'sac', 'abj', 'bluray', 'function', 'eightish', 'carpark', 'virgins', '4fil', 'sexual', 'theirs', '69911', 'remains', 'bros', 'wisdom', 'alwys', 'bmw', 'urgently', 'vry', 'shortage', 'lacs', 'source', 'arng', 'amt', 'pierre', 'cardin', 'errors', 'correction', 'guessin', 'ain', '09061701939', 's89', 'onwards', 'limited', 'absolutely', '09061209465', 'suprman', 'matrix3', 'starwars3', 'refund', 'clever', 'guesses', 'attach', 'esaplanade', 'lions', 'lionm', 'mono', 'lionp', 'original', '3gbp', 'breeze', 'fresh', 'twittering', 'birds', 'corporation', 'gap', 'inperialmusic', 'listening2the', 'weirdest', 'byã', 'leafcutter', 'johnã', 'insects', 'molested', 'plumbing', 'remixed', 'evil', 'acid', 'tick', 'loneliness', '08719899230', '41685', '07', 'consensus', 'ashwini', 'lennon', 'ke', 'qi', 'suddenly', 'enjoyin', 'yourjob', 'llspeak', 'soonlots', 'xxxx', 'teresa', 'dec', 'ld', 'bam', 'aid', 'usmle', 'dint', 'permission', 'dismay', 'greatest', 'courage', 'bear', 'defeat', 'wonders', '7th', '6th', '5th', 'personality', '3rd', 'nature', 'wined', 'dined', 'dearer', 'dem', 'luckily', 'starring', 'nokia6650', 'ctxt', 'mtmsg', 'grocers', 'cudnt', 'ctla', 'cochin', 'ente', 'ishtamayoo', 'bakrid', 'nowadays', 'showrooms', 'shaping', '08717895698', 'mobstorequiz10ppm', 'completing', 'stripes', 'skirt', 'gate', 'charles', 'gsoh', 'spam', 'gigolo', 'fastest', 'growing', 'mens', 'oncall', 'mjzgroup', '08714342399', '50rcvd', 'someplace', 'hero', 'apt', '087147123779am', 'alle', 'mone', 'eppolum', 'allalo', '08717898035', '15pm', 'poet', 'imagination', 'timings', '8am', 'happiest', 'characters', 'understanding', 'differences', 'jerry', 'cartoon', 'irritates', 'fails', 'express', '4get', 'cheer', 'soo', 'muchxxlove', 'locaxx', '0871277810810', 'yun', 'missions', 'canâ', 'dock', 'boat', 'rolled', 'newscaster', 'dabbles', 'flute', 'wheel', 'wheellock', 'dropped', 'unnecessarily', 'hostile', 'headache', 'math', 'conacted', '09111030116', 'pobox12n146tf15', '98321561', 'familiar', 'xafter', 'cst', 'chg', 'minor', 'shindig', '08714714011', 'evn', 'evr', 'lov', 'frying', 'egg', 'tea', 'sathya', 'drivby', '0quit', 'edrunk', 'iff', 'pthis', 'senrd', 'dnot', 'dancce', 'drum', 'basq', 'ihave', '2nhite', 'ros', 'xxxxxxx', 'tm', 'soc', 'wavering', 'heal', 'dumb', 'intention', 'visitors', 'cards', 'famamus', 'bcaz', 'gloucesterroad', 'uup', 'matthew', '09063440451', 'lux', 'ppm150', 'box334', 'predict', 'tescos', 'crowd', 'bognor', 'splendid', 'firsg', 'mila', 'age23', 'blonde', 'mtalk', '69866', '30pp', '5free', 'increments', 'help08718728876', 'blimey', 'exercise', '08715203694', 'invention', 'spaces', 'embassy', 'cmon', 'replies', 'millers', 'jeans', 'rajini', 'vijaykanth', 'drunken', 'khelate', 'kintu', 'opponenter', 'dhorte', 'lage', 'treated', 'snickering', 'chords', '89105', 'films', 'juicy', 'cuddle', 'dedicated', 'dedicate', 'valuable', 'nooooooo', 'cable', 'outage', 'browsin', 'compulsory', 'engalnd', 'mia', 'elliot', 'kissing', 'brainy', 'hu', 'navigate', 'choosing', 'require', 'guidance', '09061221061', '28days', 'box177', 'm221bp', '2yr', 'warranty', 'pã', '99', 'lays', 'headstart', '30ish', 'desperate', 'rummer', 'tellmiss', '0578', 'beerage', 'chile', 'subletting', 'flyng', 'horo', 'star', 'aries', 'paris', '79', '08704439680ts', 'misbehaved', 'half8th', 'kothi', 'print', 'marandratha', '15', 'creepy', '0906346330', 'abta', 'spanish', '47', 'po19', '2ez', 'fudge', 'oreos', 'stores', 'suggest', 'ors', 'stool', 'hadn', 'clocks', 'realised', 'wahay', 'mood', 'brotherâ', 'scraped', 'barrel', 'social', 'misfits', 'dependents', 'mising', 'haircut', 'breezy', 'coughing', 'dehydrated', 'holy', 'christ', 'perform', 'maangalyam', 'alaipayuthe', 't91', '09057039994', 'hugging', 'ing', 'laughs', 'buttons', '30pm', 'sterm', 'resolved', 'fab', 'route', 'claims', '09050005321', '645', 'avo', 'receipts', 'pendent', 'ouch', 'anythiing', 'impatient', 'werethe', 'monkeespeople', 'monkeyaround', 'howdy', 'gorgeous', 'formally', 'hottest', 'yay', '84128', '08712405020', '6months', 'n9dx', 'somerset', 'bare', 'str8', 'classic', '200p', 'cooked', 'salmon', 'supports', 'srt', 'ps3', 'usb', 'cld', 'checkin', 'oral', 'warner', '83118', 'colin', 'farrell', 'swat', 'popcorn', 'kiosk', 'mre', 'belligerent', 'topic', 'gage', 'deck', 'cnupdates', 'newsletter', 'alerts', 'str', 'opps', 'confused', 'moves', 'splashmobile', 'subscrition', 'unfortunately', 'missin', 'guilty', 'waliking', 'edison', 'rightly', 'fool', 'wise', 'viva', 'worrying', 'quizzes', 'engagement', 'fixd', 'shocking', 'njan', 'vilikkam', 'sudn', 'iphone', 'downstem', '08714712388', 'textpod', 'w4', '5wq', 'norm', 'mental', 'props', 'invoices', 'nachos', 'eta', 'donâ', 'receiptsâ', 'whatâ', 'shijutta', 'successful', 'juswoke', 'boatin', 'docks', 'spinout', 'gossip', 'spiritual', 'inches', '3000', '08712402050', 'lines', '10ppm', 'ag', 'promo', 'rejected', 'sarcastic', 'accommodation', 'global', 'phb1', 'ph', '08700435505150p', 'beneath', 'pale', 'surname', 'clue', 'begins', 'sos', 'named', 'gep', 'main', 'sources', 'unhappiness', 'accept', 'forced', 'excused', 'boooo', 'reunion', 'confuses', 'doesnâ', 'waqt', 'se', 'pehle', 'naseeb', 'zyada', 'kisi', 'ko', 'kuch', 'nahi', 'milta', 'zindgi', 'wo', 'jo', 'hum', 'sochte', 'ham', 'jeetey', 'deduct', 'closes', 'dom', '08718726978', 'appointments', 'shoving', 'ques', 'suits', 'ericsson', 'salesman', 'defer', 'admission', 'resent', 'failed', 'queries', 'customersqueries', 'netvision', 'puppy', 'noise', 'tee', 'caught', 'broken', 'throwing', 'deciding', 'restock', 'puts', 'perspective', 'hm', 'bread', 'issues', 'fix', 'smash', 'religiously', 'chik', 'filth', '69669', 'saristar', 'e14', '9yt', '08701752560', '450p', 'stop2', 'fires', 'covers', 'trends', 'pros', 'cons', 'brief', 'description', 'nuclear', 'fusion', 'history', 'iter', 'jet', 'pages', 'feathery', 'bowa', 'cme', 'hos', '2morow', '49557', 'official', 'yer', 'tonights', '84199', 'optout', 'eng', 'box39822', 'w111wx', 'quiet', 'beth', 'aunts', 'charlie', 'mo', 'officially', 'loyal', 'customers', '09066380611', 'yalrigu', 'heltini', 'iyo', 'shared', 'uttered', 'trusting', 'bold2', 'commercial', 'hasbro', 'august', 'jump', 'hoops', 'lambda', 'upto', 'activate', '9061100010', 'wire3', '1st4terms', 'mobcudb', 'imin', 'dontmatter', 'urgoin', 'outl8r', 'contribute', 'greatly', 'appreciated', 'sang', 'uptown', '80', 'cthen', 'conclusion', 'contents', 'pg', 'references', 'affidavit', 'twiggs', 'courtroom', 'hunt', 'beauty', 'hides', 'thousands', 'secrets', 'n8', '83039', '62735', '450', 'accommodationvouchers', 'mustprovide', '15541', 'storming', 'phne', 'wt', 'margaret', 'girlfrnd', 'grahmbell', 'invnted', 'telphone', 'finishes', 'shadow', 'spring', 'safely', 'byatch', 'whassup', 'importantly', 'spoiled', 'reserve', 'thirunelvali', 'tackle', 'moan', 'sleeps', 'hvae', '09061701444', '125gift', 'response', 'powerful', 'weapon', 'intrude', 'dose', 'tablet', 'tests', 'supplies', 'hearing', 'install', 'browse', 'artists', 'smashed', 'driver', 'dent', 'wetherspoons', 'answering', 'reboot', 'semi', 'apart', 'dessert', 'weã', '2geva', 'mint', 'logoff', 'ccna', 'reserves', '07099833605', '9280114', 'ou', 'mapquest', 'dogwood', 'webpage', 'musthu', 'nigh', 'draws', '09058094565', 'sometext', 'dear1', 'best1', 'clos1', 'lvblefrnd', 'jstfrnd', 'cutefrnd', 'lifpartnr', 'belovd', 'swtheart', 'bstfrnd', 'enemy', 'sheffield', 'opinions', 'categories', 'ethnicity', 'census', 'transcribing', 'grl', 'hogolo', 'gold', 'kodstini', 'agalla', 'necklace', 'madstini', 'hogli', 'mutai', 'eerulli', 'kodthini', 'msn', 'hotmail', 'certificate', 'publish', 'lasting', 'rocking', 'ashes', 'fring', 'cough', 'lambu', 'ji', 'batchlor', 'smoothly', 'bills', 'challenging', 'suffering', 'dysentry', 'listed', 'juliana', 'skip', 'pull', 'maga', 'burgundy', 'captaining', 'spark', 'flame', 'rawring', 'xoxo', 'adsense', 'approved', 'hcl', 'requires', 'freshers', 'process', 'ms', 'suman', 'telephonic', '83370', 'trivia', 'badrith', 'tip', 'starshine', 'sips', 'cappuccino', 'robinson', '1stchoice', '08707808226', 'shrek', 'truro', 'ext', '83435', 'module', 'humanities', 'ffffffffff', 'sooner', 'waaaat', 'lololo', 'textbuddy', 'postcode', 'gaytextbuddy', '89693', 'taken', 'shorts', 'wi', 'nz', 'wknd', 'bloo', 'bhaskar', 'mushy', 'embarrassed', 'receivea', '09061701461', 'kl341', 'placed', 'birla', 'soft', 'transfr', '121', '09094646899', 'vu', 'bcm1896wc1n3xx', '2814032', '3xã', '150pw', 'eã', 'practising', 'curtsey', 'hearin', 'owe', 'lotta', 'corvettes', 'blowing', 'panic', 'surrender', 'church', 'indians', 'swiss', 'directors', 'lac', 'crore', 'deposited', 'banks', 'taxless', 'jobs', 'delhi', 'lane', 'roads', 'suply', 'projects', 'imf', 'blocked', 'rich', 'politicians', 'rights', 'corrupt', 'itna', 'karo', 'ki', 'pura', 'padhe', 'goodmate', 'asusual', 'cheered', 'franyxxxxx', 'sections', 'clearer', 'lovly', 'dats', 'dogg', 'batsman', 'priest', 'expression', 'depression', 'understood', 'inner', 'tigress', 'minuts', 'latr', 'compliments', 'retard', 'va', 'teju', 'vava', 'eventually', 'tolerance', 'fucked', 'hits', '32000', 'legitimat', 'efreefone', 'ew', 'toilet', 'stolen', 'cops', 'wenever', 'batt', 'babyjontet', 'gprs', 'pongal', 'eurodisinc', 'trav', 'aco', 'entry41', '87121', 'morefrmmob', 'shracomorsglsuplt', 'ls1', '3aj', '0789xxxxxxx', 'impressively', 'sensible', 'torture', 'meaningless', 'moments', 'seperated', 'ud', 'pity', 'suggestions', 'leading', 'bid', '151', 'pause', '08718726270', 'jan', 'internal', 'extract', 'rats', 'themes', '077xxx', '09066362206', 'upgrade', '28thfeb', 'fink', '09099726553', 'promised', 'carlie', 'minmobsmore', 'lkpobox177hp51fl', 'plumbers', 'wrench', 'durham', 'reserved', 'funk', 'tones2u', 'annie', 'enjoying', 'ijust', 'talked', 'improved', 'supply', 'subs16', '1win150ppmx3', 'dorothy', 'kiefer', 'granite', 'explosive', 'members', 'nasdaq', 'cdgt', 'rightio', 'arent', 'cab', 'steps', '08712400200', 'mountain', 'deer', 'nottingham', '63miles', '40mph', 'sq825', 'arrival', 'responce', 'prasanth', 'ettans', 'simulate', 'readiness', 'yah', 'realize', 'tattoos', 'probs', 'hon', 'doinat', 'horrible', 'annoncement', '07046744435', 'unconvinced', 'elaborate', 'willpower', 'resend', 'hesitate', 'weakness', 'notebook', 'dileep', 'muchand', 'contacts', 'venugopal', 'mentioned', 'gower', 'morrow', '08712402578', 'butt', 'taylor', 'assumed', 'worst', 'outs', 'temple', 'darker', 'styling', 'chillin', 'jen', 'clarification', 'studies', 'anyones', 'increase', 'ranjith', 'drpd', 'deeraj', 'deepak', 'sindu', 'affectionate', 'virgin', 'sumfing', 'pushes', 'underdtand', '09050000332', '08452810071', 'walked', '6pm', 't4get2text', 'threats', 'sales', 'shifad', 'raised', 'host', 'based', 'idps', 'linux', 'systems', 'attraction', 'sorrows', 'craziest', 'proove', 'planet', 'praises', 'makiing', 'sambar', 'exact', 'rocks', 'testing', 'bookedthe', 'hut', '09061743386', 'otside', 'cedar', 'portal', 'runs', 'smarter', '09061790126', 'cashto', '08000407165', 'getstop', '88222', 'php', 'river', 'documents', 'submitted', 'stapati', 'bridge', 'lager', 'stalking', 'rimac', 'songs', 'baaaaabe', 'misss', 'youuuuu', 'forgiveness', 'child', 'danger', 'peeps', 'comment', 'application', 'airtel', 'broadband', 'installation', 'stressfull', 'adds', 'pocked', 'convenience', 'kanji', 'urfeeling', 'bettersn', 'probthat', 'overdose', 'careful', 'spk', 'lovejen', 'pimples', 'realized', 'accomodations', 'cave', 'offered', 'embarassing', 'perumbavoor', 'worms', 'posting', 'thasa', 'messed', 'yeh', 'flaky', 'parent', 'snot', 'unintentional', 'nonetheless', 'continent', 'rearrange', 'dormitory', 'astronomer', 'starer', 'election', 'lies', 'recount', 'hitler', 'tscs08714740323', '1winawk', '50perweeksub', 'faggot', 'gauti', 'sehwag', 'odi', 'chk', 'dict', 'uworld', 'qbank', 'assessment', 'talents', 'pee', 'maturity', 'dare', 'exorcism', 'emily', 'starve', 'thout', 'dled', 'imp', 'buzz', 'stubborn', 'sucker', 'hospitals', 'suckers', '930', 'eastenders', 'dot', 'compare', 'violet', 'tulip', 'lily', 'wkent', '150p16', 'everyso', 'panicks', 'sentiment', 'rowdy', 'attitude', 'attractive', 'jurong', 'amore', 'subtoitles', 'cheery', 'forgiven', 'aww', 'pansy', 'jungle', 'les', 'rudi', 'snoring', 'ink', 'splash', 'abeg', 'sponsors', 'parties', '08714712412', 'repairs', 'followin', 'chase', 'crossing', 'alternative', 'unni', 'recharge', 'computers', 'ummifying', 'performed', 'bcum', 'printer', 'groovy', 'groovying', 'fones', 'wild', 'stop2stop', 'flippin', '08701213186', 'faded', 'glory', 'ralphs', 'konw', 'waht', 'rael', 'gving', 'yuo', 'exmpel', 'jsut', 'ese', 'tihs', 'evrey', 'splleing', 'wrnog', 'sitll', 'raed', 'wihtuot', 'ayn', 'mitsake', 'agent', 'goodies', 'mat', 'real1', 'pushbutton', 'dontcha', 'babygoodbye', 'golddigger', 'webeburnin', 'arty', 'collages', 'tryin', 'jap', 'yunny', 'citylink', 'shirts', 'favorite', 'oyster', 'sashimi', 'rumbling', 'spatula', 'gobi', 'lookatme', 'clip', '35p', 'mmsto', '32323', 'attention', 'dartboard', 'condition', 'doubles', 'trebles', 'exhaust', 'replacing', 'gang', '08712402972', 'multimedia', 'disagreeable', 'wkg', 'sc', 'specialise', 'wad', '54', 'resubmit', 'expiry', 'progress', 'continue', 'bootydelious', '32', 'grumble', 'messaged', 'helens', 'princes', 'headin', 'busetop', 'sez', 'arab', 'evry1', 'eshxxxxxxxxxxx', 'hlday', 'camp', 'amrca', 'serena', 'effects', 'brighten', 'korean', 'faglord', 'ndship', 'needle', 'clock', '4few', 'conected', '9t', 'rebooting', 'update_now', '12mths', '400mins', 'j5q', 'brin', 'properly', 'sheet', 'impressed', 'funs', 'lara', 'db', 'yalru', 'lyfu', 'astne', 'innu', 'mundhe', 'lyf', 'ali', 'halla', 'bilo', 'program', 'edhae', 'ovr', 'vargu', 'meow', 'smartcall', '68866', 'subscriptn3gbp', '08448714184', 'landlineonly', 'specialisation', 'labor', 'shakara', 'beggar', 'mailed', 'varma', 'membership', 'insha', 'comingdown', 'adventure', 'howda', 'mathe', 'en', 'samachara', 'sitter', 'kaitlyn', 'shore', 'callin', 'sozi', 'culdnt', 'talkbut', 'wannatell', 'wenwecan', 'thankyou', 'objection', 'returning', 'toa', 'payoh', 'ingredients', 'weirdo', 'pose', 'comb', 'dryer', 'recieve', '24hrs', 'channel', 'teletext', 'browser', 'surf', 'converter', 'lancaster', 'neway', 'couldnã', '09066364349', 'box434sk38wp150ppm18', 'shelf', 'genes', 'soup', 'fumbling', 'amk', 'rayan', 'macleran', 'spoil', 'manual', 'tech', 'reset', 'troubleshooting', 'downloads', 'deltomorrow', '08002888812', 'earliest', 'asda', 'counts', 'celebration', 'fyi', 'epsilon', 'wtc', 'weiyi', 'mmmmmmm', 'snuggles', 'contented', 'whispers', 'polo', '373', 'w1j', '6hl', 'digi', 'coupla', 'wks', 'meatballs', '69969', 'bcmsfwc1n3xx', '09066358152', 'prompts', 'replacement', 'murali', 'initiate', 'overtime', 'nigpun', 'jackpot', '81010', 'dbuk', 'lccltd', '4403ldnw1a7rw18', 'spreadsheet', 'determine', 'entire', 'answerin', 'accordingly', '09058095201', 'swoop', 'wan2', 'westlife', 'm8', 'unbreakable', 'untamed', 'unkempt', '83049', 'uâ', 'âªve', 'instant', '08715203028', '9th', 'shoes', 'didnâ', 'nighters', 'persevered', 'prometazine', 'syrup', '5mls', 'feed', 'nearby', 'cliffs', 'wrongly', 'serving', 'heading', 'prediction', 'cloud', 'ktv', 'tallahassee', '09066362220', 'convinced', 'conversations', 'senses', 'overemphasise', 'tmorrow', 'accomodate', '69101', 'rtf', 'sphosting', 'surgical', 'emergency', 'unfolds', 'resuming', 'minimum', 'reapply', 'stands', 'nitz', '674', 'nervous', 'tonexs', 'renewed', 'clubzed', 'billing', 'ahhh', 'vaguely', 'speedchat', '80155', 'swap', 'chatter', 'chat80155', 'rcd', 'postponed', 'stocked', 'seventeen', 'seven', 'ml', 'hep', 'immunisation', 'dolls', 'patrick', 'swayze', 'posh', 'chaps', 'trial', 'prods', 'champneys', 'dob', 'ow', 'inpersonation', 'flea', 'forums', 'fwiw', 'afford', 'webadres', 'geting', 'slip', 'gopalettan', 'participate', 'admin', '09061743810', '326', 'thgt', 'clash', 'begun', 'registration', 'permanent', 'residency', 'wedding', 'velachery', 'vill', '1030', 'orc', 'cakes', 'fa', 'tkts', '08452810075over18', 'tats', 'dhanush', 'discussed', 'doesnã', 'tops', 'connections', 'pure', 'hearted', 'enemies', 'smiley', 'msgrcvd', 'customercare', 'flies', 'hittng', 'reflex', 'grandfather', 'mandy', 'sullivan', 'hotmix', 'fm', '09041940223', '29', 'transferred', 'jumpers', 'hat', 'belt', 'cribbs', 'bbd', 'pooja', 'sweatter', 'kappa', 'unclaimed', '09066368327', 'closingdate04', 'claimcode', 'm39m51', '50pmmorefrommobile2bremoved', 'mobypobox734ls27yf', 'spending', '07781482378', 'lingerie', 'bridal', 'petticoatdreams', 'superb', 'weddingfriend', 'environment', 'terrific', 'relaxing', '7am', '5ish', '7634', '7684', 'predicte', 'handsome', 'finding', 'avalarr', 'hollalater', 'innocent', 'terror', 'cruel', 'decent', 'joker', 'fees', 'florida', 'sabarish', 'solihull', 'evaluation', '1b6a5ecef91ff9', '37819', 'true18', '0430', 'jul', 'rv', 'havenã', 'rvx', 'nuerologist', 'sd', 'antelope', 'toplay', 'fieldof', 'selfindependence', 'contention', 'rounds', 'whens', 'onam', 'sirji', 'remembered', 'tata', 'aig', 'shorter', 'gaze', 'cookies', 'jelly', 'weaknesses', 'knee', 'exposes', 'pulls', 'wicked', 'whenevr', 'gray', 'listn', 'watevr', 'confirmed', 'sometme', 'offline', 'anjola', 'elections', 'shouldnâ', 'anthony', 'porn', 'vat', 'steve', 'iraq', 'afghanistan', 'stable', 'honest', 'traveling', 'como', 'listened2the', 'plaid', 'air1', 'hilarious', 'boughtã', 'braindanceã', 'ofstuff', 'aphexã', 'abel', 'warned', 'sprint', 'abroad', 'xxsp', 'visionsms', 'stopcost', '08712400603', 'billion', 'fowler', 'stil', 'tobed', '430', 'temales', 'length', 'fringe', 'distract', 'result', 'radiator', 'openings', 'upcharge', 'unknown', 'stink', 'possibility', 'resubbing', 'pears', '45pm', 'phony', '3100', 'ahold', 'anybody', 'collected', 'mix', '85069', 'usher', 'britney', 'board', 'overheating', 'reslove', 'inst', 'possession', 'offense', 'drinkin', 'balls', 'african', 'soil', '09058095107', 's3xy', 'playin', 'poker', 'nannys', 'quitting', 'least5times', 'wudn', 'roommates', 'syllabus', 'furniture', 'doke', 'laying', 'copies', 'housewives', '0871750', '77', 'landlines', 'canteen', 'diesel', 'trips', 'folks', 'paragon', 'manageable', 'comprehensive', 'commit', 'mus', 'prone', 'fetch', 'barred', 'twat', 'dungerees', 'decking', 'punch', 'saeed', 'hallaq', 'ger', 'toking', 'syd', '09061104283', '50pm', 'approx', 'knackered', 'lark', 'opener', 'elaine', '09065174042', '07821230901', 'symptoms', 'janx', 'dads', 'accidant', 'tookplace', 'ghodbandar', 'slovely', 'cosign', 'mcr', 'macs', 'toot', 'gokila', 'goodo', 'potato', 'ratio', 'tortilla', 'dancin', '08', 'slippery', 'smaller', 'capacity', 'ned', 'begging', 'created', 'gaps', 'jade', 'paul', 'didnã', 'barmed', 'spageddies', 'success', 'stayin', 'heã', 'gona', '2getha', 'arrived', 'sweetheart', 'plum', 'smacks', 'wa', 'efficient', 'netflix', 'manky', 'scouse', 'travelling', 'inmind', 'recreation', 'julianaland', 'oblivious', 'ear', 'bangbabes', 'bangb', 'foward', 'leanne', 'predicting', 'accumulation', 'enters', 'removed', 'differ', '9ja', 'gota', 'secured', 'unsecured', '195', '6669', 'cozy', 'scratches', 'loans', 'okday', 'sink', 'paces', 'cage', 'surrounded', 'reminding', 'cuck', 'absolutly', 'apnt', '5pm', 'ax', 'honeymoon', 'outfit', 'lovin', 'karnan', 'tactful', 'effect', 'irritation', 'ofice', 'duffer', 'peoples', 'lists', 'pubs', 'frankie', 'bennys', 'ditto', 'woulda', 'gayle', 'gimme', 'lip', 'caveboy', 'apples', 'pairs', 'malarky', '07090298926', '9307622', 'lips', 'tamilnadu', 'apologetic', 'fallen', 'actin', 'spoilt', 'badly', 'thanks2', 'ajith', 'lanre', 'fakeye', 'eckankar', 'stairs', 'phews', 'dang', 'bluff', 'salon', 'dentists', 'foned', 'chuck', 'seekers', 'marvel', 'ultimate', 'spider', '83338', '8ball', 'spelled', 'caps', 'bullshit', 'gotto', '220cm2', 'treadmill', 'craigslist', 'zogtorius', 'staring', '07742676969', '08719180248', '45239', 'consent', 'cousin', 'wallet', 'gail', 'l8tr', 'yaxxx', 'recharged', 'wrks', 'tooth', 'or2optout', 'hv9d', 'tues', 'dust', 'attended', 'waheeda', 'nange', 'bakra', 'kalstiya', 'general', '07808247860', '08719899229', '40411', 'openin', 'sentence', 'formal', 'puttin', 'lock', 'locks', 'jenne', 'related', 'arul', 'sip', 'excited', '69698', 'trash', 'gek1510', 'protect', 'sib', 'sensitive', 'passwords', 'lf56', 'wewa', '130', 'iriver', '255', '128', 'chapel', 'frontierville', '2nights', 'uve', 'wildest', 'ofcourse', 'itâ', 'reassuring', 'agents', 'experiment', 'honestly', 'promptly', 'burnt', 'token', 'liking', 'humans', 'miwa', 'asia', 'lnly', 'oranges', 'upd8', 'nearer', 'laready', 'aluable', 'ffectionate', 'oveable', 'ternal', 'oble', 'ruthful', 'ntimate', 'atural', 'namous', 'september', 'miserable', 'control', 'massive', 'gut', 'wrenching', 'okies', 'blah', 'stereo', 'mi', 'grasp', 'mirror', 'lindsay', 'bars', 'heron', 'resizing', 'interfued', 'ibored', 'crashing', 'thet', 'skinny', 'casting', 'olol', 'printed', 'forum', 'gpu', 'aust', 'bk', 'x2', 'jetton', 'bags', 'blanket', 'flow', 'developed', 'ovarian', 'cysts', 'bc', 'shrink', 'animal', 'bahamas', 'callfreefone', '08081560665', 'ofã', '07786200117', 'prsn', 'saves', 'bike', 'smell', 'tobacco', 'tirunelvai', 'onbus', '2go', 'donyt', 'hes', 'latelyxxx', 'somewhr', 'crushes', 'legs', 'neck', 'amigos', 'burn', 'wikipedia', 'hack', 'backdoor', 'fraction', 'neo69', '09050280520', 'subscribe', 'dps', 'bcm', '8027', 'shipped', 'incomm', 'piggy', 'brainless', 'doll', 'vehicle', 'sariyag', 'madoke', 'barolla', '08712402779', 'nanny', 'stuffed', 'bleh', 'writhing', 'mth', 'kit', 'strip', 'billed', '1013', 'ig11', 'oja', 'gurl', 'appropriate', 'garbage', 'eggs', 'jam', 'hannaford', 'wheat', 'chex', 'glo', 'payasam', 'rinu', 'flurries', 'weren', 'yavnt', 'gosh', 'spose', '09094100151', 'cast', 'aom', 'gbp5', 'box61', 'm60', '1er', 'chip', 'pisces', 'aquarius', '2bold', 'greece', '09061743811', 'swimming', 'jacuzzi', 'breaking', 'cstore', 'kane', 'shud', 'clover', 'mouse', 'desk', 'cl', '09066660100', '2309', 'praps', 'attending', 'talks', 'entirely', 'providing', 'assistance', 'noice', 'evaporated', 'stealing', 'employer', 'paperwork', '07732584351', 'rodger', 'burns', 'nudist', 'themed', '80086', 'txttowin', 'breathing', 'theres', 'chick', 'boobs', 'steak', 'sophas', 'secondary', 'applying', 'ogunrinde', 'basketball', 'outdoors', '1225', '50award', 'grinule', 'rugby', 'unconscious', 'adults', 'abnormally', 'outbid', 'simonwatson5120', 'shinco', 'plyr', 'smsrewards', 'notifications', 'hint', 'command', 'jaya', 'slob', 'shell', 'unconsciously', 'unhappy', 'upping', 'grams', 'taught', 'becaus', 'verifying', 'prabu', 'emerging', 'fiend', 'impede', 'hesitant', 'doctors', 'reminds', 'flavour', 'aldrine', 'rtm', 'buffy', 'qlynnbv', 'help08700621170150p', 'workout', 'fats', 'heater', 'degrees', '1apple', '1tulsi', 'leaf', '1lemon', '1cup', 'problms', 'litres', 'watr', 'diseases', 'snd', 'uses', 'twinks', 'bears', 'scallies', 'skins', 'jocks', '08712466669', 'kfc', 'meals', 'gravy', 'kotees', 'text82228', 'logos', 'txt82228', 'mandan', 'yellow', 'misscall', 'frndz', '6missed', 'secure', 'swashbuckling', 'rg21', '4jx', 'truly', 'memorable', '08719839835', 'mgs', '89123', '09061701851', 'k61', '12hours', 'woot', 'stuffing', '07801543489', 'latests', 'llc', 'ny', 'usa', 'msgrcvd18', 'ninish', 'icky', 'freek', 'tai', 'feng', 'reservations', 'bids', 'shipping', 'partnership', 'reliant', 'hype', '700', 'studio', 'wesleys', 'tantrum', 'iron', 'coco', '08714712379', 'rr', 'painting', '02072069400', 'bx', '526', 'smokin', 'abbey', 'fetching', '09058094455', 'tap', 'spile', 'broad', 'canal', 'nevering', '28th', 'removal', '08708034412', 'chez', 'jules', 'tootsie', 'pop', 'comfort', 'sold', 'phone750', 'picsfree1', 'vid', 'keyword', 'triple', 'echo', 'dull', 'notixiquating', 'laxinorficated', 'bambling', 'entropication', 'oblisingately', 'opted', 'masteriastering', 'amplikater', 'fidalfication', 'champlaxigating', 'atrocious', 'wotz', 'junna', 'epi', 'follows', 'subsequent', 'cumming', '09058099801', 'b4190604', '7876150ppm', 'childporn', 'accordin', 'coveragd', 'vasai', 'farm', 'eh74rr', 'hangin', 'makin', 'incredible', 'o2fwd', '18p', 'coast', 'mini', 'cheetos', 'remembrs', 'forgets', 'everytime', 'prominent', 'bite', 'cheek', 'inever', 'wishlist', 'section', 'nitro', 'yuou', 'spot', 'drama', 'struggling', 'ego', 'necessity', 'reppurcussions', 'summers', 'matched', 'help08714742804', 'kickboxing', 'pract', 'flung', 'buzzzz', 'vibrator', 'shake', 'soooo', 'provider', 'tming', 'smiled', 'answered', 'wondarfull', '2yrs', 'expressoffer', 'data', 'analysis', 'shattered', 'ups', '3days', 'usps', 'bribe', 'nipost', 'salt', 'rub', 'wounds', 'fans', '0870141701216', '4txt', '120p', 'ripped', 'clubmoby', '08717509990', 'liver', 'conveying', 'decorating', 'yoyyooo', 'permissions', 'cashbin', '09058094594', 'lk', 'chachi', 'pl', 'tiz', 'kanagu', '0721072', 'hanks', 'lotsly', 'shhhhh', 'txtstar', 'costumes', 'yowifes', 'gonnamissu', 'buttheres', 'aboutas', 'merememberin', 'asthere', 'ofsi', 'breakin', 'yaxx', 'stoners', 'html', 'gbp4', 'mfl', 'gyno', 'belong', 'ft', 'combination', 'infra', 'spell', '08719181513', 'banned', 'evry', 'emotion', 'dsn', 'prayrs', 'othrwise', 'needing', 'referin', 'obey', 'sparkling', 'breaks', '45', '0121', '2025050', 'shortbreaks', 'org', 'xclusive', 'clubsaisai', 'soiree', 'speciale', 'zouk', 'roses', '07946746291', '07880867867', 'typical', 'someday', 'tarpon', 'springs', 'awkward', 'accessible', '08709501522', '139', 'la3', '2wu', 'disappointment', 'reasons', 'machines', 'learned', 'que', 'pases', 'buen', 'tiempo', 'baig', 'watches', 'rounder', 'required', 'girlie', 'aaooooright', 'jack', 'helpful', 'pretend', 'hypotheticalhuagauahahuagahyuhagga', 'educational', 'videosound', 'videosounds', 'musicnews', '09701213186', 'prescribed', 'puzzeles', 'xxxmobilemovieclub', 'qjkgighjjgcbl', 'tensed', 'rt', 'pro', '08701237397', 'redeemable', 'accenture', 'versus', 'maps', 'ryder', 'jide', 'visiting', 'dreading', 'thou', 'pressies', '69855', 'stopbcm', 'sf', 'skint', 'fancied', 'bevies', 'waz', 'othrs', 'spoon', 'watchng', 'comfey', 'shouting', 'forfeit', 'highest', 'maximum', '71', '83383', 'jabo', 'officer', 'seeking', 'raglan', 'edward', 'cricket', 'closeby', 'pdate_now', 'yhl', 'upstairs'])\n"
     ]
    }
   ],
   "source": [
    "# Just wanted to make sure it was 7777\n",
    "count_vector = CountVectorizer(stop_words='english')\n",
    "count_vector.fit_transform(X_train)\n",
    "feat_dict=count_vector.vocabulary_.keys()\n",
    "print(len(feat_dict))\n",
    "print(feat_dict)"
   ]
  },
  {
   "cell_type": "markdown",
   "metadata": {
    "_uuid": "b765e268c1ab97cc5b9cb0dfd0201ed640397e4c"
   },
   "source": [
    "## Implementation of Naive Bayes Machine Learning Algorithm \n",
    "\n",
    "We use  sklearns **sklearn.naive_bayes** method to make predictions on our dataset.\n",
    "\n",
    "Specifically, we use **multinomial Naive Bayes** implementation. This particular classifier is suitable for classification with discrete features (such as in our case, word counts for text classification). It takes in integer word counts as its input. On the other hand **Gaussian Naive Bayes** is better suited for continuous data as it assumes that the input data has a Gaussian(normal) distribution."
   ]
  },
  {
   "cell_type": "code",
   "execution_count": 91,
   "metadata": {
    "_uuid": "39a499895458b0d9a6f152dfa9a17e279353d0ab"
   },
   "outputs": [
    {
     "data": {
      "text/plain": [
       "MultinomialNB(alpha=1.0, class_prior=None, fit_prior=True)"
      ]
     },
     "execution_count": 91,
     "metadata": {},
     "output_type": "execute_result"
    }
   ],
   "source": [
    "from sklearn.naive_bayes import MultinomialNB\n",
    "naive_bayes = MultinomialNB()\n",
    "naive_bayes.fit(training_data,y_train)"
   ]
  },
  {
   "cell_type": "code",
   "execution_count": 92,
   "metadata": {
    "_uuid": "6db40f3162c1b627bdb030b4ac6104bf3cc70681"
   },
   "outputs": [],
   "source": [
    "#Make prediction on test dataset\n",
    "predictions = naive_bayes.predict(testing_data)"
   ]
  },
  {
   "cell_type": "markdown",
   "metadata": {
    "_uuid": "b3edec1b6f6f8dd75c0b8ddaeb37a1007537103e"
   },
   "source": [
    "**Evaluating our model**\n",
    "\n",
    "Now that we have made predictions on our test set, our next goal is to evaluate how well our model is doing. There are various mechanisms for doing so, but first let's do quick recap of them.\n",
    "\n",
    "**Accuracy** measures how often the classifier makes the correct prediction. It’s the ratio of the number of correct predictions to the total number of predictions (the number of test data points).\n",
    "\n",
    "**Precision** tells us what proportion of messages we classified as spam, actually are spam. It is a ratio of true positives(words classified as spam, and which are actually spam) to all positives(all words classified as spam, irrespective of whether that was the correct classification), in other words it is the ratio of\n",
    "\n",
    "**[True Positives/(True Positives + False Positives)]**\n",
    "\n",
    "**Recall(sensitivity)** tells us what proportion of messages that actually are spam were classified by us as spam. It is a ratio of true positives(words classified as spam, and which are actually spam) to all the words that were actually spam, in other words it is the ratio of\n",
    "\n",
    "**[True Positives/(True Positives + False Negatives)]**\n",
    "\n",
    "For classification problems that are skewed in their classification distributions like in our case, for example if we had a 100 text messages and only 2 were spam and the rest 98 weren't, accuracy by itself is not a very good metric. We could classify 90 messages as not spam(including the 2 that were spam but we classify them as not spam, hence they would be false negatives) and 10 as spam(all 10 false positives) and still get a reasonably good accuracy score. For such cases, precision and recall come in very handy. These two metrics can be combined to get the F1 score, which is weighted average of the precision and recall scores. This score can range from 0 to 1, with 1 being the best possible F1 score.\n",
    "\n",
    "We will be using all 4 metrics to make sure our model does well. For all 4 metrics whose values can range from 0 to 1, having a score as close to 1 as possible is a good indicator of how well our model is doing."
   ]
  },
  {
   "cell_type": "code",
   "execution_count": 93,
   "metadata": {
    "_uuid": "0bc4167d3ff888530c292ae0ed7a8e924e8caf30"
   },
   "outputs": [
    {
     "name": "stdout",
     "output_type": "stream",
     "text": [
      "Accuracy score: 0.9847533632286996\n",
      "Precision score: 0.9420289855072463\n",
      "Recall score: 0.935251798561151\n",
      "F1 score: 0.9386281588447652\n"
     ]
    }
   ],
   "source": [
    "from sklearn.metrics import accuracy_score, precision_score, recall_score, f1_score\n",
    "print('Accuracy score: {}'.format(accuracy_score(y_test, predictions)))\n",
    "print('Precision score: {}'.format(precision_score(y_test, predictions)))\n",
    "print('Recall score: {}'.format(recall_score(y_test, predictions)))\n",
    "print('F1 score: {}'.format(f1_score(y_test, predictions)))"
   ]
  },
  {
   "cell_type": "markdown",
   "metadata": {
    "_uuid": "db41456bf07a7de127c3368b1f0db87c5632d512"
   },
   "source": [
    "One of the major advantages that **Naive Bayes** has over other classification algorithms is its ability to handle an extremely large number of features. In our case, each word is treated as a feature and there are thousands of different words. Also, it performs well even with the presence of irrelevant features and is relatively unaffected by them.\n",
    "\n",
    "The other major advantage it has is its relative simplicity. Naive Bayes' works well right out of the box and tuning it's parameters is rarely ever necessary, except usually in cases where the distribution of the data is known. \n",
    "\n",
    "It rarely ever overfits the data.\n",
    "\n",
    "Another important advantage is that its model training and prediction times are very fast for the amount of data it can handle. "
   ]
  },
  {
   "cell_type": "code",
   "execution_count": 95,
   "metadata": {
    "_uuid": "9f9019cfa476a59b9b1233522808d0a3f368faef"
   },
   "outputs": [
    {
     "name": "stdout",
     "output_type": "stream",
     "text": [
      "Accuracy score: 0.015246636771300448\n",
      "Precision score: 0.05797101449275366\n",
      "Recall score: 0.06474820143884896\n",
      "F1 score: 0.06137184115523475\n"
     ]
    }
   ],
   "source": [
    "#Scores for Spam\n",
    "\n",
    "print('Accuracy score:', 1-0.9847533632286996)\n",
    "print('Precision score:', 1- 0.9420289855072463)\n",
    "print('Recall score:', 1- 0.935251798561151)\n",
    "print('F1 score:', 1-0.9386281588447652)"
   ]
  }
 ],
 "metadata": {
  "kernelspec": {
   "display_name": "Python 3",
   "language": "python",
   "name": "python3"
  },
  "language_info": {
   "codemirror_mode": {
    "name": "ipython",
    "version": 3
   },
   "file_extension": ".py",
   "mimetype": "text/x-python",
   "name": "python",
   "nbconvert_exporter": "python",
   "pygments_lexer": "ipython3",
   "version": "3.7.4"
  }
 },
 "nbformat": 4,
 "nbformat_minor": 2
}
